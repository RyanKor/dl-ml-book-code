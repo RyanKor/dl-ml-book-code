{
 "cells": [
  {
   "cell_type": "code",
   "execution_count": 1,
   "id": "a05d9877",
   "metadata": {},
   "outputs": [],
   "source": [
    "from sklearn.datasets import load_breast_cancer\n",
    "from sklearn.model_selection import train_test_split\n",
    "import matplotlib.pyplot as plt\n",
    "import numpy as np"
   ]
  },
  {
   "cell_type": "code",
   "execution_count": 2,
   "id": "681379df",
   "metadata": {},
   "outputs": [],
   "source": [
    "class MultiClassNetwork:\n",
    "    \n",
    "    def __init__(self, units=10, batch_size=32, learning_rate=0.1, l1=0, l2=0):\n",
    "        self.units = units\n",
    "        self.batch_size = batch_size\n",
    "        self.w1 = None\n",
    "        self.b1 = None\n",
    "        self.w2 = None\n",
    "        self.b2 = None\n",
    "        self.a1 = None\n",
    "        self.losses = []\n",
    "        self.val_losses = []\n",
    "        self.lr = learning_rate\n",
    "        self.l1 = l1\n",
    "        self.l2 = l2\n",
    "    \n",
    "    def forpass(self, x):\n",
    "        \n",
    "        z1 = np.dot(x, self.w1) + self.b1\n",
    "        \n",
    "        self.a1 = self.sigmoid(z1)\n",
    "        \n",
    "        z2 = np.dot(self.a1, self.w2) + self.b2\n",
    "        \n",
    "        return z2\n",
    "    \n",
    "    def backprop(self, x, err):\n",
    "        \n",
    "        m = len(x)\n",
    "        \n",
    "        dw2 = np.dot(self.a1.T, err) / m\n",
    "        \n",
    "        db2 = np.sum(err) / m\n",
    "        \n",
    "        # sigmoid 함수의 그라디언트까지 계산\n",
    "        \n",
    "        err_to_hidden = np.dot(err, self.w2.T) * self.a1 * (1 - self.a1)\n",
    "        \n",
    "        dw1 = np.dot(x.T, err_to_hidden) / m\n",
    "        \n",
    "        db1 = np.sum(err_to_hidden, axis=0) / m    \n",
    "        \n",
    "        return dw1, db1, dw2, db2\n",
    "    \n",
    "    def sigmoid(self, z):\n",
    "        \n",
    "        z = np.clip(z, -100, None)\n",
    "        a = 1 / (1 + np.exp(-z)) # sigmoid\n",
    "        \n",
    "        return a\n",
    "    \n",
    "    def softmax(self, z):\n",
    "        \n",
    "        z = np.clip(z, -100, None)\n",
    "        \n",
    "        exp_z = np.exp(z)\n",
    "        \n",
    "        return exp_z / np.sum(exp_z, axis=1).reshape(-1, 1)\n",
    "    \n",
    "    def init_weights(self, n_features, n_classes):\n",
    "\n",
    "        self.w1 = np.random.normal(0,1, (n_features, self.units))\n",
    "        \n",
    "        self.b1 = np.zeros(self.units)\n",
    "        \n",
    "        self.w2 = np.random.normal(0,1, (self.units, n_classes))\n",
    "        \n",
    "        self.b2 = np.zeros(n_classes)\n",
    "    \n",
    "    def fit(self, x, y, epochs=100, x_val=None, y_val=None):\n",
    "        \n",
    "        np.random.seed(42)\n",
    "        \n",
    "        self.init_weights(x.shape[1], y.shape[1])\n",
    "        \n",
    "        for i in range(epochs):\n",
    "            \n",
    "            loss = 0\n",
    "            \n",
    "            print('.', end=\"\")\n",
    "            \n",
    "            for x_batch, y_batch in self.gen_batch(x,y):\n",
    "                \n",
    "                a = self.training(x_batch, y_batch)\n",
    "                \n",
    "                a = np.clip(a, 1e-10, 1-1e-10)\n",
    "                \n",
    "                loss += np.sum(-y_batch * np.log(a))\n",
    "                \n",
    "            \n",
    "            self.losses.append((loss + self.reg_loss()) / len(x))\n",
    "            \n",
    "            self.update_val_loss(x_val, y_val)\n",
    "            \n",
    "    def training(self, x, y):\n",
    "        \n",
    "        m = len(x)\n",
    "        \n",
    "        z = self.forpass(x)\n",
    "        \n",
    "        a = self.softmax(z)\n",
    "        \n",
    "        err = -(y - a)\n",
    "\n",
    "        dw1, db1, dw2, db2 = self.backprop(x, err)\n",
    "\n",
    "        dw1 += (self.l1 * np.sign(self.w1) + self.l2 * self.w1) / m\n",
    "        \n",
    "        dw2 += (self.l1 * np.sign(self.w2) + self.l2 * self.w2) / m\n",
    "\n",
    "        self.w1 -= self.lr * dw1\n",
    "\n",
    "        self.b1 -= self.lr * db1\n",
    "        \n",
    "        self.w2 -= self.lr * dw2\n",
    "\n",
    "        self.b2 -= self.lr * db2\n",
    "        \n",
    "        return a\n",
    "    \n",
    "    def predict(self, x):\n",
    "        z = self.forpass(x)\n",
    "        \n",
    "        return np.argmax(z, axis=1)\n",
    "    \n",
    "    def score(self, x, y):\n",
    "        \n",
    "        return np.mean(self.predict(x) == np.argmax(y, axis=1))\n",
    "    \n",
    "    def reg_loss(self):\n",
    "        \n",
    "        return self.l1 * (np.sum(np.abs(self.w1)) \n",
    "                          + np.sum(np.abs(self.w2))) + self.l2 / 2 * (np.sum(self.w1**2) \n",
    "                                                                      + np.sum(self.w2**2))\n",
    "    \n",
    "    def update_val_loss(self, x_val, y_val):\n",
    "        \n",
    "        z = self.forpass(x_val)\n",
    "        \n",
    "        a = self.softmax(z)\n",
    "        \n",
    "        a = np.clip(a, 1e-10, 1-1e-10)\n",
    "        \n",
    "        val_loss = np.sum(-y_val*np.log(a))\n",
    "        \n",
    "        self.val_losses.append((val_loss + self.reg_loss()) / len(y_val))\n",
    "        \n",
    "    def gen_batch(self, x, y):\n",
    "        \n",
    "        length = len(x)\n",
    "        \n",
    "        bins = length // self.batch_size\n",
    "        \n",
    "        if length % self.batch_size:\n",
    "            bins += 1\n",
    "        indexes = np.random.permutation(np.arange(len(x)))\n",
    "        \n",
    "        x = x[indexes]\n",
    "        \n",
    "        y = y[indexes]\n",
    "        \n",
    "        for i in range(bins):\n",
    "            \n",
    "            start = self.batch_size * i\n",
    "            \n",
    "            end = self.batch_size * (i + 1)\n",
    "            \n",
    "            yield x[start:end], y[start:end]"
   ]
  },
  {
   "cell_type": "code",
   "execution_count": 3,
   "id": "e68b3bd3",
   "metadata": {},
   "outputs": [],
   "source": [
    "import tensorflow as tf\n",
    "\n",
    "(x_train_all, y_train_all), (x_test, y_test) = tf.keras.datasets.fashion_mnist.load_data()"
   ]
  },
  {
   "cell_type": "code",
   "execution_count": 4,
   "id": "a2255816",
   "metadata": {},
   "outputs": [
    {
     "name": "stdout",
     "output_type": "stream",
     "text": [
      "(60000, 28, 28) (60000,)\n"
     ]
    }
   ],
   "source": [
    "print(x_train_all.shape, y_train_all.shape)"
   ]
  },
  {
   "cell_type": "code",
   "execution_count": 5,
   "id": "8d66ca59",
   "metadata": {},
   "outputs": [
    {
     "data": {
      "image/png": "[encoded data removed]",
      "text/plain": [
       "<Figure size 432x288 with 1 Axes>"
      ]
     },
     "metadata": {
      "needs_background": "light"
     },
     "output_type": "display_data"
    }
   ],
   "source": [
    "plt.imshow(x_train_all[0], cmap=\"gray\")\n",
    "plt.show()"
   ]
  },
  {
   "cell_type": "code",
   "execution_count": 6,
   "id": "a2f75472",
   "metadata": {},
   "outputs": [
    {
     "name": "stdout",
     "output_type": "stream",
     "text": [
      "[9 0 0 3 0 2 7 2 5 5]\n"
     ]
    }
   ],
   "source": [
    "print(y_train_all[:10])"
   ]
  },
  {
   "cell_type": "code",
   "execution_count": 7,
   "id": "e063d284",
   "metadata": {},
   "outputs": [
    {
     "data": {
      "text/plain": [
       "array([6000, 6000, 6000, 6000, 6000, 6000, 6000, 6000, 6000, 6000])"
      ]
     },
     "execution_count": 7,
     "metadata": {},
     "output_type": "execute_result"
    }
   ],
   "source": [
    "np.bincount(y_train_all) # 배열의 정수값의 등장 횟수를 세서 해당하는 인덱스 위치에 저장"
   ]
  },
  {
   "cell_type": "code",
   "execution_count": 8,
   "id": "23b8780d",
   "metadata": {},
   "outputs": [],
   "source": [
    "x_train, x_val, y_train, y_val = train_test_split(x_train_all, y_train_all, stratify=y_train_all, test_size=0.2, random_state=42)"
   ]
  },
  {
   "cell_type": "code",
   "execution_count": 9,
   "id": "def1732d",
   "metadata": {},
   "outputs": [
    {
     "data": {
      "text/plain": [
       "array([4800, 4800, 4800, 4800, 4800, 4800, 4800, 4800, 4800, 4800])"
      ]
     },
     "execution_count": 9,
     "metadata": {},
     "output_type": "execute_result"
    }
   ],
   "source": [
    "np.bincount(y_train)"
   ]
  },
  {
   "cell_type": "code",
   "execution_count": 10,
   "id": "687e5efb",
   "metadata": {},
   "outputs": [
    {
     "data": {
      "text/plain": [
       "array([1200, 1200, 1200, 1200, 1200, 1200, 1200, 1200, 1200, 1200])"
      ]
     },
     "execution_count": 10,
     "metadata": {},
     "output_type": "execute_result"
    }
   ],
   "source": [
    "np.bincount(y_val)"
   ]
  },
  {
   "cell_type": "code",
   "execution_count": 11,
   "id": "1651e6e5",
   "metadata": {},
   "outputs": [],
   "source": [
    "x_train = x_train / 255\n",
    "x_val = x_val / 255"
   ]
  },
  {
   "cell_type": "code",
   "execution_count": 12,
   "id": "c2390aed",
   "metadata": {},
   "outputs": [],
   "source": [
    "x_train = x_train.reshape(-1, 784)\n",
    "x_val = x_val.reshape(-1, 784)"
   ]
  },
  {
   "cell_type": "code",
   "execution_count": 13,
   "id": "9dbdda65",
   "metadata": {},
   "outputs": [
    {
     "name": "stdout",
     "output_type": "stream",
     "text": [
      "(48000, 784) (12000, 784)\n"
     ]
    }
   ],
   "source": [
    "print(x_train.shape, x_val.shape)"
   ]
  },
  {
   "cell_type": "code",
   "execution_count": 14,
   "id": "4b5539f6",
   "metadata": {},
   "outputs": [],
   "source": [
    "y_train_encoded = tf.keras.utils.to_categorical(y_train)\n",
    "y_val_encoded = tf.keras.utils.to_categorical(y_val)"
   ]
  },
  {
   "cell_type": "code",
   "execution_count": 15,
   "id": "d0efc7a7",
   "metadata": {},
   "outputs": [
    {
     "name": "stdout",
     "output_type": "stream",
     "text": [
      "(48000, 10) (12000, 10)\n"
     ]
    }
   ],
   "source": [
    "print(y_train_encoded.shape, y_val_encoded.shape)"
   ]
  },
  {
   "cell_type": "code",
   "execution_count": 16,
   "id": "0a102d60",
   "metadata": {},
   "outputs": [
    {
     "name": "stdout",
     "output_type": "stream",
     "text": [
      "........................................"
     ]
    }
   ],
   "source": [
    "fc = MultiClassNetwork(units=100, batch_size=256)\n",
    "\n",
    "fc.fit(x_train, y_train_encoded, x_val=x_val, y_val=y_val_encoded, epochs=40)"
   ]
  },
  {
   "cell_type": "code",
   "execution_count": 17,
   "id": "fc8af7a4",
   "metadata": {},
   "outputs": [
    {
     "data": {
      "image/png": "[encoded data removed]",
      "text/plain": [
       "<Figure size 432x288 with 1 Axes>"
      ]
     },
     "metadata": {
      "needs_background": "light"
     },
     "output_type": "display_data"
    }
   ],
   "source": [
    "plt.plot(fc.losses)\n",
    "plt.plot(fc.val_losses)\n",
    "plt.ylabel(\"loss\")\n",
    "plt.xlabel(\"iteration\")\n",
    "plt.legend([\"train_loss\", \"val_loss\"])\n",
    "plt.show()"
   ]
  },
  {
   "cell_type": "code",
   "execution_count": 18,
   "id": "c539ed95",
   "metadata": {},
   "outputs": [
    {
     "data": {
      "text/plain": [
       "0.8150833333333334"
      ]
     },
     "execution_count": 18,
     "metadata": {},
     "output_type": "execute_result"
    }
   ],
   "source": [
    "fc.score(x_val, y_val_encoded)"
   ]
  },
  {
   "cell_type": "code",
   "execution_count": 22,
   "id": "440f9d45",
   "metadata": {},
   "outputs": [],
   "source": [
    "# 실행이 안되는 코드?\n",
    "# w = tf.Variable(tf.zeros(shape=(1)))\n",
    "# b = tf.Variable(tf.zeros(shape=(1)))\n",
    "\n",
    "# optimizer = tf.optimizers.SGD(lr = 0.01)\n",
    "\n",
    "# num_epochs = 10\n",
    "\n",
    "# for step in range(num_epochs):\n",
    "    \n",
    "#     with tf.GradientTape() as tape:\n",
    "        \n",
    "#         z_net = w * x_train + b\n",
    "        \n",
    "#         z_net = tf.reshape(z_net, [-1])\n",
    "        \n",
    "#         sqr_errors = tf.square(y_train - z_net)\n",
    "        \n",
    "#         mean_cost = tf.reduce_mean(sqr_errors)\n",
    "        \n",
    "#     grads = tape.gradient(mean_cost, [w, b])\n",
    "    \n",
    "#     optimizer.apply_gradients(zip(grads, [w,b]))"
   ]
  },
  {
   "cell_type": "code",
   "execution_count": 25,
   "id": "1ddf7c1e",
   "metadata": {},
   "outputs": [
    {
     "name": "stdout",
     "output_type": "stream",
     "text": [
      "Epoch 1/10\n",
      "1500/1500 [==============================] - 9s 5ms/step - loss: nan\n",
      "Epoch 2/10\n",
      "1500/1500 [==============================] - 8s 5ms/step - loss: nan\n",
      "Epoch 3/10\n",
      "1500/1500 [==============================] - 8s 5ms/step - loss: nan\n",
      "Epoch 4/10\n",
      "1500/1500 [==============================] - 8s 5ms/step - loss: nan\n",
      "Epoch 5/10\n",
      "1500/1500 [==============================] - 8s 5ms/step - loss: nan\n",
      "Epoch 6/10\n",
      "1500/1500 [==============================] - 8s 5ms/step - loss: nan\n",
      "Epoch 7/10\n",
      "1500/1500 [==============================] - 8s 5ms/step - loss: nan\n",
      "Epoch 8/10\n",
      "1500/1500 [==============================] - 8s 5ms/step - loss: nan\n",
      "Epoch 9/10\n",
      "1500/1500 [==============================] - 8s 5ms/step - loss: nan\n",
      "Epoch 10/10\n",
      "1500/1500 [==============================] - 8s 5ms/step - loss: nan\n"
     ]
    },
    {
     "data": {
      "text/plain": [
       "<tensorflow.python.keras.callbacks.History at 0x7f9e3761a460>"
      ]
     },
     "execution_count": 25,
     "metadata": {},
     "output_type": "execute_result"
    }
   ],
   "source": [
    "# tf version 1으로 활성함수조차 포함되어 있지 않는 코드다.\n",
    "model = tf.keras.models.Sequential()\n",
    "model.add(tf.keras.layers.Dense(1))\n",
    "model.compile(optimizer=\"sgd\", loss=\"mse\")\n",
    "model.fit(x_train, y_train, epochs=10)"
   ]
  },
  {
   "cell_type": "code",
   "execution_count": 28,
   "id": "b2a8e243",
   "metadata": {},
   "outputs": [
    {
     "name": "stdout",
     "output_type": "stream",
     "text": [
      "Epoch 1/40\n",
      "1500/1500 [==============================] - 18s 12ms/step - loss: 1.3893 - accuracy: 0.6518 - val_loss: 0.9611 - val_accuracy: 0.7368\n",
      "Epoch 2/40\n",
      "1500/1500 [==============================] - 18s 12ms/step - loss: 0.8387 - accuracy: 0.7451 - val_loss: 0.7476 - val_accuracy: 0.7628\n",
      "Epoch 3/40\n",
      "1500/1500 [==============================] - 18s 12ms/step - loss: 0.7065 - accuracy: 0.7652 - val_loss: 0.6589 - val_accuracy: 0.7796\n",
      "Epoch 4/40\n",
      "1500/1500 [==============================] - 18s 12ms/step - loss: 0.6419 - accuracy: 0.7813 - val_loss: 0.6102 - val_accuracy: 0.7872\n",
      "Epoch 5/40\n",
      "1500/1500 [==============================] - 18s 12ms/step - loss: 0.6009 - accuracy: 0.7941 - val_loss: 0.5763 - val_accuracy: 0.8010\n",
      "Epoch 6/40\n",
      "1500/1500 [==============================] - 18s 12ms/step - loss: 0.5716 - accuracy: 0.8038 - val_loss: 0.5478 - val_accuracy: 0.8102\n",
      "Epoch 7/40\n",
      "1500/1500 [==============================] - 18s 12ms/step - loss: 0.5490 - accuracy: 0.8102 - val_loss: 0.5292 - val_accuracy: 0.8173\n",
      "Epoch 8/40\n",
      "1500/1500 [==============================] - 18s 12ms/step - loss: 0.5313 - accuracy: 0.8165 - val_loss: 0.5127 - val_accuracy: 0.8211\n",
      "Epoch 9/40\n",
      "1500/1500 [==============================] - 18s 12ms/step - loss: 0.5170 - accuracy: 0.8211 - val_loss: 0.5000 - val_accuracy: 0.8235\n",
      "Epoch 10/40\n",
      "1500/1500 [==============================] - 18s 12ms/step - loss: 0.5052 - accuracy: 0.8248 - val_loss: 0.4885 - val_accuracy: 0.8300\n",
      "Epoch 11/40\n",
      "1500/1500 [==============================] - 18s 12ms/step - loss: 0.4951 - accuracy: 0.8283 - val_loss: 0.4815 - val_accuracy: 0.8305\n",
      "Epoch 12/40\n",
      "1500/1500 [==============================] - 18s 12ms/step - loss: 0.4865 - accuracy: 0.8309 - val_loss: 0.4717 - val_accuracy: 0.8347\n",
      "Epoch 13/40\n",
      "1500/1500 [==============================] - 18s 12ms/step - loss: 0.4788 - accuracy: 0.8335 - val_loss: 0.4646 - val_accuracy: 0.8363\n",
      "Epoch 14/40\n",
      "1500/1500 [==============================] - 18s 12ms/step - loss: 0.4721 - accuracy: 0.8350 - val_loss: 0.4581 - val_accuracy: 0.8397\n",
      "Epoch 15/40\n",
      "1500/1500 [==============================] - 18s 12ms/step - loss: 0.4659 - accuracy: 0.8375 - val_loss: 0.4526 - val_accuracy: 0.8405\n",
      "Epoch 16/40\n",
      "1500/1500 [==============================] - 18s 12ms/step - loss: 0.4603 - accuracy: 0.8390 - val_loss: 0.4485 - val_accuracy: 0.8423\n",
      "Epoch 17/40\n",
      "1500/1500 [==============================] - 18s 12ms/step - loss: 0.4549 - accuracy: 0.8405 - val_loss: 0.4434 - val_accuracy: 0.8441\n",
      "Epoch 18/40\n",
      "1500/1500 [==============================] - 18s 12ms/step - loss: 0.4504 - accuracy: 0.8427 - val_loss: 0.4389 - val_accuracy: 0.8428\n",
      "Epoch 19/40\n",
      "1500/1500 [==============================] - 18s 12ms/step - loss: 0.4460 - accuracy: 0.8434 - val_loss: 0.4347 - val_accuracy: 0.8469\n",
      "Epoch 20/40\n",
      "1500/1500 [==============================] - 18s 12ms/step - loss: 0.4420 - accuracy: 0.8448 - val_loss: 0.4310 - val_accuracy: 0.8484\n",
      "Epoch 21/40\n",
      "1500/1500 [==============================] - 18s 12ms/step - loss: 0.4380 - accuracy: 0.8464 - val_loss: 0.4275 - val_accuracy: 0.8490\n",
      "Epoch 22/40\n",
      "1500/1500 [==============================] - 18s 12ms/step - loss: 0.4343 - accuracy: 0.8473 - val_loss: 0.4251 - val_accuracy: 0.8507\n",
      "Epoch 23/40\n",
      "1500/1500 [==============================] - 18s 12ms/step - loss: 0.4308 - accuracy: 0.8487 - val_loss: 0.4225 - val_accuracy: 0.8502\n",
      "Epoch 24/40\n",
      "1500/1500 [==============================] - 18s 12ms/step - loss: 0.4276 - accuracy: 0.8495 - val_loss: 0.4182 - val_accuracy: 0.8529\n",
      "Epoch 25/40\n",
      "1500/1500 [==============================] - 18s 12ms/step - loss: 0.4244 - accuracy: 0.8504 - val_loss: 0.4171 - val_accuracy: 0.8543\n",
      "Epoch 26/40\n",
      "1500/1500 [==============================] - 18s 12ms/step - loss: 0.4214 - accuracy: 0.8522 - val_loss: 0.4154 - val_accuracy: 0.8537\n",
      "Epoch 27/40\n",
      "1500/1500 [==============================] - 18s 12ms/step - loss: 0.4187 - accuracy: 0.8529 - val_loss: 0.4117 - val_accuracy: 0.8553\n",
      "Epoch 28/40\n",
      "1500/1500 [==============================] - 18s 12ms/step - loss: 0.4159 - accuracy: 0.8538 - val_loss: 0.4110 - val_accuracy: 0.8562\n",
      "Epoch 29/40\n",
      "1500/1500 [==============================] - 18s 12ms/step - loss: 0.4131 - accuracy: 0.8547 - val_loss: 0.4089 - val_accuracy: 0.8539\n",
      "Epoch 30/40\n",
      "1500/1500 [==============================] - 18s 12ms/step - loss: 0.4109 - accuracy: 0.8558 - val_loss: 0.4042 - val_accuracy: 0.8593\n",
      "Epoch 31/40\n",
      "1500/1500 [==============================] - 18s 12ms/step - loss: 0.4084 - accuracy: 0.8567 - val_loss: 0.4026 - val_accuracy: 0.8595\n",
      "Epoch 32/40\n",
      "1500/1500 [==============================] - 18s 12ms/step - loss: 0.4061 - accuracy: 0.8572 - val_loss: 0.4024 - val_accuracy: 0.8573\n",
      "Epoch 33/40\n",
      "1500/1500 [==============================] - 18s 12ms/step - loss: 0.4041 - accuracy: 0.8582 - val_loss: 0.3982 - val_accuracy: 0.8593\n",
      "Epoch 34/40\n",
      "1500/1500 [==============================] - 18s 12ms/step - loss: 0.4016 - accuracy: 0.8591 - val_loss: 0.3965 - val_accuracy: 0.8600\n",
      "Epoch 35/40\n",
      "1500/1500 [==============================] - 18s 12ms/step - loss: 0.3996 - accuracy: 0.8593 - val_loss: 0.3959 - val_accuracy: 0.8607\n",
      "Epoch 36/40\n",
      "1500/1500 [==============================] - 18s 12ms/step - loss: 0.3975 - accuracy: 0.8604 - val_loss: 0.3945 - val_accuracy: 0.8593\n",
      "Epoch 37/40\n",
      "1500/1500 [==============================] - 18s 12ms/step - loss: 0.3957 - accuracy: 0.8604 - val_loss: 0.3937 - val_accuracy: 0.8622\n",
      "Epoch 38/40\n",
      "1500/1500 [==============================] - 18s 12ms/step - loss: 0.3934 - accuracy: 0.8614 - val_loss: 0.3941 - val_accuracy: 0.8602\n",
      "Epoch 39/40\n",
      "1500/1500 [==============================] - 17s 12ms/step - loss: 0.3919 - accuracy: 0.8623 - val_loss: 0.3887 - val_accuracy: 0.8624\n",
      "Epoch 40/40\n",
      "1500/1500 [==============================] - 18s 12ms/step - loss: 0.3898 - accuracy: 0.8626 - val_loss: 0.3879 - val_accuracy: 0.8641\n"
     ]
    }
   ],
   "source": [
    "model = tf.keras.models.Sequential()\n",
    "model.add(tf.keras.layers.Dense(100, activation=\"sigmoid\", input_shape=(784,)))\n",
    "model.add(tf.keras.layers.Dense(10, activation=\"softmax\"))\n",
    "\n",
    "model.compile(optimizer=\"sgd\", loss=\"categorical_crossentropy\", metrics=[\"accuracy\"])\n",
    "history = model.fit(x_train, y_train_encoded, epochs=40, validation_data=(x_val, y_val_encoded))"
   ]
  },
  {
   "cell_type": "code",
   "execution_count": 29,
   "id": "6a0f7c9e",
   "metadata": {},
   "outputs": [
    {
     "name": "stdout",
     "output_type": "stream",
     "text": [
      "dict_keys(['loss', 'accuracy', 'val_loss', 'val_accuracy'])\n"
     ]
    }
   ],
   "source": [
    "print(history.history.keys())"
   ]
  },
  {
   "cell_type": "code",
   "execution_count": 30,
   "id": "f2459873",
   "metadata": {},
   "outputs": [
    {
     "data": {
      "image/png": "[encoded data removed]",
      "text/plain": [
       "<Figure size 432x288 with 1 Axes>"
      ]
     },
     "metadata": {
      "needs_background": "light"
     },
     "output_type": "display_data"
    }
   ],
   "source": [
    "plt.plot(history.history[\"loss\"])\n",
    "plt.plot(history.history[\"val_loss\"])\n",
    "plt.ylabel(\"loss\")\n",
    "plt.xlabel(\"epoch\")\n",
    "plt.legend([\"train_loss\", \"val_loss\"])\n",
    "plt.show()"
   ]
  },
  {
   "cell_type": "code",
   "execution_count": 31,
   "id": "1aed75ff",
   "metadata": {},
   "outputs": [
    {
     "data": {
      "image/png": "[encoded data removed]",
      "text/plain": [
       "<Figure size 432x288 with 1 Axes>"
      ]
     },
     "metadata": {
      "needs_background": "light"
     },
     "output_type": "display_data"
    }
   ],
   "source": [
    "plt.plot(history.history[\"accuracy\"])\n",
    "plt.plot(history.history[\"val_accuracy\"])\n",
    "plt.ylabel(\"accuracy\")\n",
    "plt.xlabel(\"epoch\")\n",
    "plt.legend([\"train_accuracy\", \"val_accuracy\"])\n",
    "plt.show()"
   ]
  },
  {
   "cell_type": "code",
   "execution_count": 33,
   "id": "ba31aecf",
   "metadata": {},
   "outputs": [
    {
     "name": "stdout",
     "output_type": "stream",
     "text": [
      "0.8640833497047424\n"
     ]
    }
   ],
   "source": [
    "loss, accuracy = model.evaluate(x_val, y_val_encoded, verbose=0)\n",
    "print(accuracy)"
   ]
  },
  {
   "cell_type": "code",
   "execution_count": null,
   "id": "34d191f1",
   "metadata": {},
   "outputs": [],
   "source": []
  }
 ],
 "metadata": {
  "kernelspec": {
   "display_name": "TensorFlow 2.5 on Python 3.8 & CUDA 11.3",
   "language": "python",
   "name": "python3"
  },
  "language_info": {
   "codemirror_mode": {
    "name": "ipython",
    "version": 3
   },
   "file_extension": ".py",
   "mimetype": "text/x-python",
   "name": "python",
   "nbconvert_exporter": "python",
   "pygments_lexer": "ipython3",
   "version": "3.8.10"
  }
 },
 "nbformat": 4,
 "nbformat_minor": 5
}
