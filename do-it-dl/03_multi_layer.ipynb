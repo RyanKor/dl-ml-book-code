{
 "cells": [
  {
   "cell_type": "code",
   "execution_count": 1,
   "id": "a05d9877",
   "metadata": {},
   "outputs": [],
   "source": [
    "from sklearn.datasets import load_breast_cancer\n",
    "from sklearn.model_selection import train_test_split\n",
    "import matplotlib.pyplot as plt\n",
    "import numpy as np\n",
    "cancer = load_breast_cancer()\n",
    "\n",
    "x = cancer.data\n",
    "y = cancer.target\n",
    "\n",
    "# train / test 데이터 분리\n",
    "x_train_all, x_test, y_train_all, y_test = train_test_split(x, y, stratify=y, test_size=0.2, random_state=42)\n",
    "\n",
    "x_train, x_val, y_train, y_val = train_test_split(x_train_all, y_train_all, stratify=y_train_all, test_size=0.2, random_state=42)"
   ]
  },
  {
   "cell_type": "code",
   "execution_count": 2,
   "id": "f73f6960",
   "metadata": {},
   "outputs": [
    {
     "name": "stdout",
     "output_type": "stream",
     "text": [
      "(364, 30) (364,)\n"
     ]
    }
   ],
   "source": [
    "print(x_train.shape, y_train.shape)"
   ]
  },
  {
   "cell_type": "code",
   "execution_count": 3,
   "id": "e4776478",
   "metadata": {},
   "outputs": [],
   "source": [
    "class SingleLayer:\n",
    "    \n",
    "    def __init__(self, learning_rate=0.1, l1=0, l2=0):\n",
    "        \n",
    "        self.w = None\n",
    "        self.b = None\n",
    "        self.losses = []\n",
    "        self.val_losses = []\n",
    "        self.w_history = []\n",
    "        self.lr = learning_rate\n",
    "        self.l1 = l1\n",
    "        self.l2 = l2\n",
    "    \n",
    "    def forpass(self, x):\n",
    "        \n",
    "        z = np.dot(x, self.w) + self.b\n",
    "        \n",
    "        return z\n",
    "    \n",
    "    def backprop(self, x, err):\n",
    "        \n",
    "        m = len(x)\n",
    "        dw = np.dot(x.T, err) / m\n",
    "        db = np.sum(err) / m\n",
    "        \n",
    "        return dw, db\n",
    "    \n",
    "    def activation(self, z):\n",
    "        \n",
    "        z = np.clip(z, -100, None)\n",
    "        a = 1 / (1 + np.exp(-z)) # sigmoid\n",
    "        \n",
    "        return a\n",
    "    \n",
    "    def fit(self, x, y, epochs=100, x_val=None, y_val=None):\n",
    "        \n",
    "        y = y.reshape(-1,1)\n",
    "        \n",
    "        y_val = y_val.reshape(-1,1)\n",
    "        \n",
    "        m = len(x)\n",
    "        \n",
    "        self.w = np.ones((x.shape[1], 1))\n",
    "        \n",
    "        self.b = 0\n",
    "        \n",
    "        self.w_history.append(self.w.copy())\n",
    "        \n",
    "        for i in range(epochs):\n",
    "            \n",
    "            z = self.forpass(x)\n",
    "            a = self.activation(z)\n",
    "            \n",
    "            err = -(y - a)\n",
    "            \n",
    "            dw, db = self.backprop(x, err)\n",
    "            \n",
    "            dw += (self.l1 * np.sign(self.w) + self.l2 * self.w) / m\n",
    "            \n",
    "            self.w -= self.lr * dw\n",
    "            \n",
    "            self.b -= self.lr * db\n",
    "            \n",
    "            self.w_history.append(self.w.copy())\n",
    "            \n",
    "            a = np.clip(a, 1e-10, 1-1e-10)\n",
    "            \n",
    "            # 배치 경사 하강법 : 배치를 한 번 다 돌고 난 다음에 오차를 역전파 진행.\n",
    "            loss = np.sum(-(y * np.log(a) + (1-y) * np.log(1-a)))\n",
    "            \n",
    "            self.losses.append((loss + self.reg_loss()) / m)\n",
    "            \n",
    "            self.update_val_loss(x_val, y_val)\n",
    "    \n",
    "    def predict(self, x):\n",
    "        z = self.forpass(x)\n",
    "        \n",
    "        return z > 0\n",
    "    \n",
    "    def score(self, x, y):\n",
    "        \n",
    "        return np.mean(self.predict(x) == y.reshape(-1, 1))\n",
    "    \n",
    "    def reg_loss(self):\n",
    "        \n",
    "        return self.l1 * np.sum(np.abs(self.w)) + self.l2 / 2 * np.sum(self.w**2)\n",
    "    \n",
    "    def update_val_loss(self, x_val, y_val):\n",
    "        \n",
    "        z = self.forpass(x_val)\n",
    "        \n",
    "        a = self.activation(z)\n",
    "        \n",
    "        a = np.clip(a, 1e-10, 1-1e-10)\n",
    "        \n",
    "        val_loss = np.sum(-(y_val*np.log(a) + (1-y_val)*np.log(1-a)))\n",
    "        \n",
    "        self.val_losses.append((val_loss + self.reg_loss()) / len(y_val))\n",
    "        "
   ]
  },
  {
   "cell_type": "code",
   "execution_count": 4,
   "id": "7aa6306d",
   "metadata": {},
   "outputs": [],
   "source": [
    "from sklearn.preprocessing import StandardScaler\n",
    "\n",
    "scaler = StandardScaler()\n",
    "scaler.fit(x_train)\n",
    "\n",
    "x_train_scaled = scaler.transform(x_train)\n",
    "\n",
    "x_val_scaled = scaler.transform(x_val)"
   ]
  },
  {
   "cell_type": "code",
   "execution_count": 5,
   "id": "598c794b",
   "metadata": {},
   "outputs": [
    {
     "data": {
      "text/plain": [
       "0.978021978021978"
      ]
     },
     "execution_count": 5,
     "metadata": {},
     "output_type": "execute_result"
    }
   ],
   "source": [
    "single_layer = SingleLayer(l2=0.01)\n",
    "single_layer.fit(x_train_scaled, y_train, x_val = x_val_scaled, y_val=y_val, epochs=10000)\n",
    "\n",
    "single_layer.score(x_val_scaled, y_val)"
   ]
  },
  {
   "cell_type": "code",
   "execution_count": 6,
   "id": "8bb34446",
   "metadata": {},
   "outputs": [
    {
     "data": {
      "image/png": "[encoded data removed]",
      "text/plain": [
       "<Figure size 432x288 with 1 Axes>"
      ]
     },
     "metadata": {
      "needs_background": "light"
     },
     "output_type": "display_data"
    }
   ],
   "source": [
    "plt.ylim(0, 0.3)\n",
    "plt.plot(single_layer.losses)\n",
    "plt.plot(single_layer.val_losses)\n",
    "plt.ylabel(\"loss\")\n",
    "plt.xlabel(\"epoch\")\n",
    "plt.legend([\"train_loss\", \"val_loss\"])\n",
    "plt.show()"
   ]
  },
  {
   "cell_type": "code",
   "execution_count": 7,
   "id": "f2972477",
   "metadata": {},
   "outputs": [
    {
     "data": {
      "image/png": "[encoded data removed]",
      "text/plain": [
       "<Figure size 432x288 with 1 Axes>"
      ]
     },
     "metadata": {
      "needs_background": "light"
     },
     "output_type": "display_data"
    }
   ],
   "source": [
    "w2 = []\n",
    "w3 = []\n",
    "\n",
    "for w in single_layer.w_history:\n",
    "    w2.append(w[2])\n",
    "    w3.append(w[3])\n",
    "\n",
    "plt.plot(w2, w3)\n",
    "plt.plot(w2[-1], w3[-1], \"ro\")\n",
    "plt.xlabel(\"w[2]\")\n",
    "plt.ylabel(\"w[3]\")\n",
    "plt.show()"
   ]
  },
  {
   "cell_type": "code",
   "execution_count": 10,
   "id": "681379df",
   "metadata": {},
   "outputs": [],
   "source": [
    "class DualLayer:\n",
    "    \n",
    "    def __init__(self, units=10, learning_rate=0.1, l1=0, l2=0):\n",
    "        self.units = units\n",
    "        self.w1 = None\n",
    "        self.b1 = None\n",
    "        self.w2 = None\n",
    "        self.b2 = None\n",
    "        self.a1 = None\n",
    "        self.losses = []\n",
    "        self.val_losses = []\n",
    "        self.lr = learning_rate\n",
    "        self.l1 = l1\n",
    "        self.l2 = l2\n",
    "    \n",
    "    def forpass(self, x):\n",
    "        \n",
    "        z1 = np.dot(x, self.w1) + self.b1\n",
    "        \n",
    "        self.a1 = self.activation(z1)\n",
    "        \n",
    "        z2 = np.dot(self.a1, self.w2) + self.b2\n",
    "        \n",
    "        return z2\n",
    "    \n",
    "    def backprop(self, x, err):\n",
    "        \n",
    "        m = len(x)\n",
    "        \n",
    "        dw2 = np.dot(self.a1.T, err) / m\n",
    "        \n",
    "        db2 = np.sum(err) / m\n",
    "        \n",
    "        # sigmoid 함수의 그라디언트까지 계산\n",
    "        \n",
    "        err_to_hidden = np.dot(err, self.w2.T) * self.a1 * (1-self.a1)\n",
    "        \n",
    "        dw1 = np.dot(x.T, err_to_hidden) / m\n",
    "        \n",
    "        db1 = np.sum(err_to_hidden, axis=0) / m    \n",
    "        \n",
    "        return dw1, db1, dw2, db2\n",
    "    \n",
    "    def activation(self, z):\n",
    "        \n",
    "        z = np.clip(z, -100, None)\n",
    "        a = 1 / (1 + np.exp(-z)) # sigmoid\n",
    "        \n",
    "        return a\n",
    "    \n",
    "    def init_weights(self, n_features):\n",
    "\n",
    "        self.w1 = np.ones((n_features, self.units))\n",
    "        \n",
    "        self.b1 = np.zeros(self.units)\n",
    "        \n",
    "        self.w2 = np.ones((self.units, 1))\n",
    "        \n",
    "        self.b2 = 0\n",
    "    \n",
    "    def fit(self, x, y, epochs=100, x_val=None, y_val=None):\n",
    "        \n",
    "        y = y.reshape(-1,1)\n",
    "        \n",
    "        y_val = y_val.reshape(-1,1)\n",
    "        \n",
    "        m = len(x)\n",
    "        \n",
    "        self.init_weights(x.shape[1])\n",
    "        \n",
    "        \n",
    "        for i in range(epochs):\n",
    "            \n",
    "            a = self.training(x,y,m)\n",
    "            \n",
    "            a = np.clip(a, 1e-10, 1-1e-10)\n",
    "            \n",
    "            \n",
    "            # 배치 경사 하강법 : 배치를 한 번 다 돌고 난 다음에 오차를 역전파 진행.\n",
    "            loss = np.sum(-(y * np.log(a) + (1-y) * np.log(1-a)))\n",
    "            \n",
    "            self.losses.append((loss + self.reg_loss()) / m)\n",
    "            \n",
    "            self.update_val_loss(x_val, y_val)\n",
    "            \n",
    "    def training(self, x, y, m):\n",
    "        \n",
    "        z = self.forpass(x)\n",
    "        \n",
    "        a = self.activation(z)\n",
    "        \n",
    "        err = -(y - a)\n",
    "\n",
    "        dw1, db1, dw2, db2 = self.backprop(x, err)\n",
    "\n",
    "        dw1 += (self.l1 * np.sign(self.w1) + self.l2 * self.w1) / m\n",
    "        \n",
    "        dw2 += (self.l1 * np.sign(self.w2) + self.l2 * self.w2) / m\n",
    "\n",
    "        self.w1 -= self.lr * dw1\n",
    "\n",
    "        self.b1 -= self.lr * db1\n",
    "        \n",
    "        self.w2 -= self.lr * dw2\n",
    "\n",
    "        self.b2 -= self.lr * db2\n",
    "\n",
    "        a = np.clip(a, 1e-10, 1-1e-10)\n",
    "        \n",
    "        return a\n",
    "    \n",
    "    def predict(self, x):\n",
    "        z = self.forpass(x)\n",
    "        \n",
    "        return z > 0\n",
    "    \n",
    "    def score(self, x, y):\n",
    "        \n",
    "        return np.mean(self.predict(x) == y.reshape(-1, 1))\n",
    "    \n",
    "    def reg_loss(self):\n",
    "        \n",
    "        return self.l1 * (np.sum(np.abs(self.w1)) \n",
    "                          + np.sum(np.abs(self.w2))) + self.l2 / 2 * (np.sum(self.w1**2) \n",
    "                                                                      + np.sum(self.w2**2))\n",
    "    \n",
    "    def update_val_loss(self, x_val, y_val):\n",
    "        \n",
    "        z = self.forpass(x_val)\n",
    "        \n",
    "        a = self.activation(z)\n",
    "        \n",
    "        a = np.clip(a, 1e-10, 1-1e-10)\n",
    "        \n",
    "        val_loss = np.sum(-(y_val*np.log(a) + (1-y_val)*np.log(1-a)))\n",
    "        \n",
    "        self.val_losses.append((val_loss + self.reg_loss()) / len(y_val))"
   ]
  },
  {
   "cell_type": "code",
   "execution_count": 11,
   "id": "03b31a1b",
   "metadata": {},
   "outputs": [
    {
     "data": {
      "text/plain": [
       "0.978021978021978"
      ]
     },
     "execution_count": 11,
     "metadata": {},
     "output_type": "execute_result"
    }
   ],
   "source": [
    "dual_layer = DualLayer(l2=0.01)\n",
    "\n",
    "dual_layer.fit(x_train_scaled, y_train, x_val = x_val_scaled, y_val=y_val, epochs=20000)\n",
    "\n",
    "dual_layer.score(x_val_scaled, y_val)"
   ]
  },
  {
   "cell_type": "code",
   "execution_count": 12,
   "id": "a3a9b025",
   "metadata": {},
   "outputs": [
    {
     "data": {
      "image/png": "[encoded data removed]",
      "text/plain": [
       "<Figure size 432x288 with 1 Axes>"
      ]
     },
     "metadata": {
      "needs_background": "light"
     },
     "output_type": "display_data"
    }
   ],
   "source": [
    "plt.ylim(0, 0.3)\n",
    "plt.plot(dual_layer.losses)\n",
    "plt.plot(dual_layer.val_losses)\n",
    "plt.ylabel(\"loss\")\n",
    "plt.xlabel(\"epoch\")\n",
    "plt.legend([\"train_loss\", \"val_loss\"])\n",
    "plt.show()"
   ]
  },
  {
   "cell_type": "code",
   "execution_count": 15,
   "id": "2c2585fc",
   "metadata": {},
   "outputs": [],
   "source": [
    "class RandomInitNetwork(DualLayer):\n",
    "    \n",
    "    def init_weights(self, n_features):\n",
    "        \n",
    "        np.random.seed(42)\n",
    "        \n",
    "        self.w1 = np.random.normal(0, 1, \n",
    "                                   (n_features, self.units))\n",
    "        \n",
    "        self.b1 = np.zeros(self.units)\n",
    "        \n",
    "        self.w2 = np.random.normal(0,1, \n",
    "                                   (self.units, 1))\n",
    "        \n",
    "        self.b2 = 0"
   ]
  },
  {
   "cell_type": "code",
   "execution_count": 16,
   "id": "16dddbd8",
   "metadata": {},
   "outputs": [
    {
     "data": {
      "image/png": "[encoded data removed]",
      "text/plain": [
       "<Figure size 432x288 with 1 Axes>"
      ]
     },
     "metadata": {
      "needs_background": "light"
     },
     "output_type": "display_data"
    }
   ],
   "source": [
    "random_init_net = RandomInitNetwork(l2=0.01)\n",
    "random_init_net.fit(x_train_scaled, y_train, x_val=x_val_scaled, y_val=y_val, epochs=500)\n",
    "\n",
    "plt.ylim(0, 0.3)\n",
    "plt.plot(random_init_net.losses)\n",
    "plt.plot(random_init_net.val_losses)\n",
    "plt.ylabel(\"loss\")\n",
    "plt.xlabel(\"epoch\")\n",
    "plt.legend([\"train_loss\", \"val_loss\"])\n",
    "plt.show()"
   ]
  },
  {
   "cell_type": "code",
   "execution_count": 25,
   "id": "e5245f2b",
   "metadata": {},
   "outputs": [],
   "source": [
    "class MinibatchNetwork(RandomInitNetwork):\n",
    "    \n",
    "    def __init__(self, units=10, batch_size=32, learning_rate=0.1, l1=0, l2=0):\n",
    "        super().__init__(units, learning_rate, l1, l2)\n",
    "        self.batch_size = batch_size\n",
    "        \n",
    "        \n",
    "    def fit(self, x, y, epochs=100, x_val=None, y_val=None):\n",
    "        y_val = y_val.reshape(-1, 1)\n",
    "        \n",
    "        self.init_weights(x.shape[1])\n",
    "        \n",
    "        np.random.seed(42)\n",
    "        \n",
    "        for i in range(epochs):\n",
    "            \n",
    "            loss = 0\n",
    "            \n",
    "            for x_batch, y_batch in self.gen_batch(x, y):\n",
    "                \n",
    "                y_batch = y_batch.reshape(-1, 1)\n",
    "                \n",
    "                m = len(x_batch)\n",
    "                \n",
    "                a = self.training(x_batch, y_batch, m)\n",
    "                \n",
    "                a = np.clip(a, 1e-10, 1-1e-10)\n",
    "                \n",
    "                loss += np.sum(-(y_batch*np.log(a) + (1-y_batch) * np.log(1-a)))\n",
    "                \n",
    "            self.losses.append((loss + self.reg_loss()) / len(x))\n",
    "            \n",
    "            self.update_val_loss(x_val, y_val)\n",
    "    \n",
    "    def gen_batch(self, x, y):\n",
    "        \n",
    "        length = len(x)\n",
    "        \n",
    "        bins = length // self.batch_size\n",
    "        \n",
    "        if length % self.batch_size:\n",
    "            bins += 1\n",
    "        indexes = np.random.permutation(np.arange(len(x)))\n",
    "        \n",
    "        x = x[indexes]\n",
    "        \n",
    "        y = y[indexes]\n",
    "        \n",
    "        for i in range(bins):\n",
    "            \n",
    "            start = self.batch_size * i\n",
    "            \n",
    "            end = self.batch_size * (i + 1)\n",
    "            \n",
    "            yield x[start:end], y[start:end]"
   ]
  },
  {
   "cell_type": "code",
   "execution_count": 26,
   "id": "62c86ef1",
   "metadata": {},
   "outputs": [
    {
     "data": {
      "text/plain": [
       "0.978021978021978"
      ]
     },
     "execution_count": 26,
     "metadata": {},
     "output_type": "execute_result"
    }
   ],
   "source": [
    "minibatch_net = MinibatchNetwork(l2=0.01, batch_size=32)\n",
    "minibatch_net.fit(x_train_scaled, y_train, x_val=x_val_scaled, y_val=y_val, epochs=500)\n",
    "minibatch_net.score(x_val_scaled, y_val)"
   ]
  },
  {
   "cell_type": "code",
   "execution_count": 27,
   "id": "8f221c02",
   "metadata": {},
   "outputs": [
    {
     "data": {
      "image/png": "[encoded data removed]",
      "text/plain": [
       "<Figure size 432x288 with 1 Axes>"
      ]
     },
     "metadata": {
      "needs_background": "light"
     },
     "output_type": "display_data"
    }
   ],
   "source": [
    "plt.ylim(0, 0.3)\n",
    "plt.plot(minibatch_net.losses)\n",
    "plt.plot(minibatch_net.val_losses)\n",
    "plt.ylabel(\"loss\")\n",
    "plt.xlabel(\"iteration\")\n",
    "plt.legend([\"train_loss\", \"val_loss\"])\n",
    "plt.show()"
   ]
  },
  {
   "cell_type": "code",
   "execution_count": 28,
   "id": "857f573e",
   "metadata": {},
   "outputs": [
    {
     "data": {
      "text/plain": [
       "0.978021978021978"
      ]
     },
     "execution_count": 28,
     "metadata": {},
     "output_type": "execute_result"
    }
   ],
   "source": [
    "minibatch_net = MinibatchNetwork(l2=0.01, batch_size=128)\n",
    "minibatch_net.fit(x_train_scaled, y_train, x_val=x_val_scaled, y_val=y_val, epochs=500)\n",
    "minibatch_net.score(x_val_scaled, y_val)"
   ]
  },
  {
   "cell_type": "code",
   "execution_count": 29,
   "id": "8620ff65",
   "metadata": {},
   "outputs": [
    {
     "data": {
      "image/png": "[encoded data removed]",
      "text/plain": [
       "<Figure size 432x288 with 1 Axes>"
      ]
     },
     "metadata": {
      "needs_background": "light"
     },
     "output_type": "display_data"
    }
   ],
   "source": [
    "plt.ylim(0, 0.3)\n",
    "plt.plot(minibatch_net.losses)\n",
    "plt.plot(minibatch_net.val_losses)\n",
    "plt.ylabel(\"loss\")\n",
    "plt.xlabel(\"iteration\")\n",
    "plt.legend([\"train_loss\", \"val_loss\"])\n",
    "plt.show()"
   ]
  },
  {
   "cell_type": "code",
   "execution_count": 30,
   "id": "8ee41dcd",
   "metadata": {},
   "outputs": [],
   "source": [
    "from sklearn.neural_network import MLPClassifier\n",
    "\n",
    "mlp = MLPClassifier(hidden_layer_sizes=(10,), \n",
    "                    activation=\"logistic\", \n",
    "                    solver=\"sgd\", \n",
    "                    alpha=0.01, batch_size=32, \n",
    "                   learning_rate_init=0.1, max_iter=500\n",
    "                   )"
   ]
  },
  {
   "cell_type": "code",
   "execution_count": 31,
   "id": "b5ad6eee",
   "metadata": {},
   "outputs": [
    {
     "data": {
      "text/plain": [
       "0.989010989010989"
      ]
     },
     "execution_count": 31,
     "metadata": {},
     "output_type": "execute_result"
    }
   ],
   "source": [
    "mlp.fit(x_train_scaled, y_train)\n",
    "mlp.score(x_val_scaled, y_val)"
   ]
  },
  {
   "cell_type": "code",
   "execution_count": null,
   "id": "e68b3bd3",
   "metadata": {},
   "outputs": [],
   "source": []
  }
 ],
 "metadata": {
  "kernelspec": {
   "display_name": "TensorFlow 2.5 on Python 3.8 & CUDA 11.3",
   "language": "python",
   "name": "python3"
  },
  "language_info": {
   "codemirror_mode": {
    "name": "ipython",
    "version": 3
   },
   "file_extension": ".py",
   "mimetype": "text/x-python",
   "name": "python",
   "nbconvert_exporter": "python",
   "pygments_lexer": "ipython3",
   "version": "3.8.10"
  }
 },
 "nbformat": 4,
 "nbformat_minor": 5
}
