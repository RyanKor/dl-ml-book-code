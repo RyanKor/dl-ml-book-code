{
 "cells": [
  {
   "cell_type": "code",
   "execution_count": 1,
   "id": "7ebc700b",
   "metadata": {},
   "outputs": [],
   "source": [
    "import tensorflow as tf\n",
    "import numpy as np"
   ]
  },
  {
   "cell_type": "code",
   "execution_count": 2,
   "id": "c08e7e0f",
   "metadata": {},
   "outputs": [
    {
     "name": "stderr",
     "output_type": "stream",
     "text": [
      "<__array_function__ internals>:5: VisibleDeprecationWarning: Creating an ndarray from ragged nested sequences (which is a list-or-tuple of lists-or-tuples-or ndarrays with different lengths or shapes) is deprecated. If you meant to do this, you must specify 'dtype=object' when creating the ndarray\n",
      "/usr/local/lib/python3.8/dist-packages/tensorflow/python/keras/datasets/imdb.py:155: VisibleDeprecationWarning: Creating an ndarray from ragged nested sequences (which is a list-or-tuple of lists-or-tuples-or ndarrays with different lengths or shapes) is deprecated. If you meant to do this, you must specify 'dtype=object' when creating the ndarray\n",
      "  x_train, y_train = np.array(xs[:idx]), np.array(labels[:idx])\n",
      "/usr/local/lib/python3.8/dist-packages/tensorflow/python/keras/datasets/imdb.py:156: VisibleDeprecationWarning: Creating an ndarray from ragged nested sequences (which is a list-or-tuple of lists-or-tuples-or ndarrays with different lengths or shapes) is deprecated. If you meant to do this, you must specify 'dtype=object' when creating the ndarray\n",
      "  x_test, y_test = np.array(xs[idx:]), np.array(labels[idx:])\n"
     ]
    }
   ],
   "source": [
    "from tensorflow.keras.datasets import imdb\n",
    "(x_train_all, y_train_all), (x_test, y_test) = imdb.load_data(skip_top=20, num_words=100)"
   ]
  },
  {
   "cell_type": "code",
   "execution_count": 3,
   "id": "e8e4fab6",
   "metadata": {},
   "outputs": [
    {
     "name": "stdout",
     "output_type": "stream",
     "text": [
      "(25000,) (25000,)\n"
     ]
    }
   ],
   "source": [
    "print(x_train_all.shape, y_train_all.shape)"
   ]
  },
  {
   "cell_type": "code",
   "execution_count": 4,
   "id": "19138dff",
   "metadata": {},
   "outputs": [
    {
     "name": "stdout",
     "output_type": "stream",
     "text": [
      "[2, 2, 22, 2, 43, 2, 2, 2, 2, 65, 2, 2, 66, 2, 2, 2, 36, 2, 2, 25, 2, 43, 2, 2, 50, 2, 2, 2, 35, 2, 2, 2, 2, 2, 2, 2, 2, 2, 2, 2, 39, 2, 2, 2, 2, 2, 2, 38, 2, 2, 2, 2, 50, 2, 2, 2, 2, 2, 2, 22, 2, 2, 2, 2, 2, 22, 71, 87, 2, 2, 43, 2, 38, 76, 2, 2, 2, 2, 22, 2, 2, 2, 2, 2, 2, 2, 2, 2, 62, 2, 2, 2, 2, 2, 2, 2, 2, 2, 2, 2, 2, 66, 2, 33, 2, 2, 2, 2, 38, 2, 2, 25, 2, 51, 36, 2, 48, 25, 2, 33, 2, 22, 2, 2, 28, 77, 52, 2, 2, 2, 2, 82, 2, 2, 2, 2, 2, 2, 2, 2, 2, 2, 2, 2, 2, 2, 36, 71, 43, 2, 2, 26, 2, 2, 46, 2, 2, 2, 2, 2, 2, 88, 2, 2, 2, 2, 98, 32, 2, 56, 26, 2, 2, 2, 2, 2, 2, 2, 22, 21, 2, 2, 26, 2, 2, 2, 30, 2, 2, 51, 36, 28, 2, 92, 25, 2, 2, 2, 65, 2, 38, 2, 88, 2, 2, 2, 2, 2, 2, 2, 2, 32, 2, 2, 2, 2, 2, 32]\n"
     ]
    }
   ],
   "source": [
    "print(x_train_all[0])"
   ]
  },
  {
   "cell_type": "code",
   "execution_count": 5,
   "id": "cc2726db",
   "metadata": {},
   "outputs": [],
   "source": [
    "for i in range(len(x_train_all)):\n",
    "    x_train_all[i] = [w for w in x_train_all[i] if w>2]"
   ]
  },
  {
   "cell_type": "code",
   "execution_count": 6,
   "id": "53d8b848",
   "metadata": {},
   "outputs": [
    {
     "data": {
      "text/plain": [
       "17"
      ]
     },
     "execution_count": 6,
     "metadata": {},
     "output_type": "execute_result"
    }
   ],
   "source": [
    "word_to_index = imdb.get_word_index()\n",
    "word_to_index[\"movie\"]"
   ]
  },
  {
   "cell_type": "code",
   "execution_count": 7,
   "id": "b92ebd1d",
   "metadata": {},
   "outputs": [
    {
     "name": "stdout",
     "output_type": "stream",
     "text": [
      "film just story really they you just there an from so there film film were great just so much film would really at so you what they if you at film have been good also they were just are out because them all up are film but are be what they have don't you story so because all all "
     ]
    }
   ],
   "source": [
    "index_to_word = {word_to_index[k]: k for k in word_to_index}\n",
    "\n",
    "for w in x_train_all[0]:\n",
    "    print(index_to_word[w - 3], end=\" \")"
   ]
  },
  {
   "cell_type": "code",
   "execution_count": 8,
   "id": "e1b55b02",
   "metadata": {},
   "outputs": [
    {
     "name": "stdout",
     "output_type": "stream",
     "text": [
      "59 32\n"
     ]
    }
   ],
   "source": [
    "print(len(x_train_all[0]), len(x_train_all[1]))"
   ]
  },
  {
   "cell_type": "code",
   "execution_count": 9,
   "id": "73403fd0",
   "metadata": {},
   "outputs": [
    {
     "name": "stdout",
     "output_type": "stream",
     "text": [
      "[1 0 0 1 0 0 1 0 1 0]\n"
     ]
    }
   ],
   "source": [
    "print(y_train_all[:10])"
   ]
  },
  {
   "cell_type": "code",
   "execution_count": 10,
   "id": "f41ddf74",
   "metadata": {},
   "outputs": [],
   "source": [
    "np.random.seed(42)\n",
    "\n",
    "random_index = np.random.permutation(25000)\n",
    "\n",
    "x_train = x_train_all[random_index[:20000]]\n",
    "y_train = y_train_all[random_index[:20000]]\n",
    "x_val = x_train_all[random_index[20000:]]\n",
    "y_val = y_train_all[random_index[20000:]]"
   ]
  },
  {
   "cell_type": "code",
   "execution_count": 11,
   "id": "1314a1f1",
   "metadata": {},
   "outputs": [],
   "source": [
    "from tensorflow.keras.preprocessing import sequence\n",
    "\n",
    "maxlen = 100\n",
    "x_train_seq = sequence.pad_sequences(x_train, maxlen=maxlen)\n",
    "x_val_seq = sequence.pad_sequences(x_val, maxlen=maxlen)"
   ]
  },
  {
   "cell_type": "code",
   "execution_count": 12,
   "id": "c33a30dc",
   "metadata": {},
   "outputs": [
    {
     "name": "stdout",
     "output_type": "stream",
     "text": [
      "(20000, 100) (5000, 100)\n"
     ]
    }
   ],
   "source": [
    "print(x_train_seq.shape, x_val_seq.shape)"
   ]
  },
  {
   "cell_type": "code",
   "execution_count": 13,
   "id": "e5847c63",
   "metadata": {},
   "outputs": [
    {
     "name": "stdout",
     "output_type": "stream",
     "text": [
      "[ 0  0  0  0  0  0  0  0  0  0  0  0  0  0  0  0  0  0  0  0  0  0  0  0\n",
      "  0  0  0  0  0  0  0  0  0  0  0  0  0  0  0  0  0  0  0  0  0  0  0  0\n",
      "  0  0  0  0  0  0  0  0  0  0  0  0  0  0 35 40 27 28 40 22 83 31 85 45\n",
      " 24 23 31 70 31 76 30 98 32 22 28 51 75 56 30 33 97 53 38 46 53 74 31 35\n",
      " 23 34 22 58]\n"
     ]
    }
   ],
   "source": [
    "print(x_train_seq[0])"
   ]
  },
  {
   "cell_type": "code",
   "execution_count": 14,
   "id": "1c7c7c6c",
   "metadata": {},
   "outputs": [],
   "source": [
    "from tensorflow.keras.utils import to_categorical\n",
    "\n",
    "x_train_onehot = to_categorical(x_train_seq)\n",
    "x_val_onehot = to_categorical(x_val_seq)"
   ]
  },
  {
   "cell_type": "code",
   "execution_count": 15,
   "id": "e5212ede",
   "metadata": {},
   "outputs": [
    {
     "name": "stdout",
     "output_type": "stream",
     "text": [
      "(20000, 100, 100)\n"
     ]
    }
   ],
   "source": [
    "print(x_train_onehot.shape)"
   ]
  },
  {
   "cell_type": "code",
   "execution_count": 16,
   "id": "103d9edc",
   "metadata": {},
   "outputs": [
    {
     "name": "stdout",
     "output_type": "stream",
     "text": [
      "800000000\n"
     ]
    }
   ],
   "source": [
    "print(x_train_onehot.nbytes)"
   ]
  },
  {
   "cell_type": "code",
   "execution_count": 17,
   "id": "22299f84",
   "metadata": {},
   "outputs": [],
   "source": [
    "class RecurrentNetwork:\n",
    "    \n",
    "    def __init__(self, n_cells=10, batch_size=32, learning_rate=0.1):\n",
    "        self.n_cells = n_cells\n",
    "        self.w1h = None\n",
    "        self.w1x = None\n",
    "        self.batch_size = batch_size\n",
    "        self.b1 = None\n",
    "        self.w2 = None\n",
    "        self.b2 = None\n",
    "        self.h = None\n",
    "        self.losses = []\n",
    "        self.val_losses = []\n",
    "        self.lr = learning_rate\n",
    "        \n",
    "    def forpass(self, x):\n",
    "        self.h = [np.zeros((x.shape[0], self.n_cells))]\n",
    "        seq = np.swapaxes(x,0,1)\n",
    "        for i in seq:\n",
    "            z1 = np.dot(i, self.w1x) + np.dot(self.h[-1], self.w1h) + self.b1\n",
    "            h = np.tanh(z1)\n",
    "            self.h.append(h)\n",
    "            z2 = np.dot(h, self.w2) + self.b2\n",
    "            \n",
    "        return z2\n",
    "        \n",
    "    def backprop(self, x, err):\n",
    "        \n",
    "        m = len(x)\n",
    "        \n",
    "        w2_grad = np.dot(self.h[-1].T, err) / m\n",
    "        \n",
    "        b2_grad = np.sum(err) / m\n",
    "        \n",
    "        seq = np.swapaxes(x, 0, 1)\n",
    "        \n",
    "        w1h_grad = w1x_grad = b1_grad = 0\n",
    "        \n",
    "        err_to_cell = np.dot(err, self.w2.T) * (1 - self.h[-1] ** 2)\n",
    "        \n",
    "        for x, h in zip(seq[::-1][:10], self.h[:-1][::-1][:10]):\n",
    "            w1h_grad += np.dot(h.T, err_to_cell)\n",
    "            w1x_grad += np.dot(x.T, err_to_cell)\n",
    "            b1_grad += np.sum(err_to_cell, axis=0)\n",
    "            err_to_cell = np.dot(err_to_cell, self.w1h) * (1 - h ** 2)\n",
    "        \n",
    "        w1h_grad /= m\n",
    "        w1x_grad /= m\n",
    "        b1_grad /= m\n",
    "        \n",
    "        return w1h_grad, w1x_grad, b1_grad, w2_grad, b2_grad\n",
    "    \n",
    "    def sigmoid(self, z):\n",
    "        \n",
    "        z = np.clip(z, -100, None)\n",
    "        a = 1 / (1 + np.exp(-z))\n",
    "        \n",
    "        return a\n",
    "    \n",
    "    def init_weights(self, n_features, n_classes):\n",
    "        \n",
    "        orth_init = tf.initializers.Orthogonal()\n",
    "        \n",
    "        glorot_init = tf.initializers.GlorotUniform()\n",
    "        \n",
    "        \n",
    "        self.w1h = orth_init((self.n_cells, self.n_cells)).numpy()\n",
    "        \n",
    "        self.w1x = glorot_init((n_features, self.n_cells)).numpy()\n",
    "        \n",
    "        self.b1 = np.zeros(self.n_cells)\n",
    "        \n",
    "        self.w2 = glorot_init((self.n_cells, self.n_cells)).numpy()\n",
    "        \n",
    "        self.b2 =  np.zeros(n_classes)\n",
    "    \n",
    "    def fit(self, x, y, epochs=100, x_val=None, y_val=None):\n",
    "        \n",
    "        y = y.reshape(-1, 1)\n",
    "        \n",
    "        y_val = y_val.reshape(-1,1)\n",
    "        \n",
    "        np.random.seed(42)\n",
    "        \n",
    "        self.init_weights(x.shape[2], y.shape[1])\n",
    "                \n",
    "        for i in range(epochs):\n",
    "            print(\"epochs\", i, end=\" \")\n",
    "            \n",
    "            batch_losses = []\n",
    "            for x_batch, y_batch in self.gen_batch(x,y):\n",
    "                \n",
    "                print(\".\", end=\"\")\n",
    "                a = self.training(x_batch, y_batch)\n",
    "                \n",
    "                a = np.clip(a, 1e-10, 1-1e-10)\n",
    "                \n",
    "                loss = np.mean(-(y_batch * np.log(a) + (1 - y_batch) * np.log(1-a)))\n",
    "                \n",
    "                batch_losses.append(loss)\n",
    "                \n",
    "            print( )\n",
    "            \n",
    "            self.losses.append(np.mean(batch_losses))\n",
    "            \n",
    "            self.update_val_loss(x_val, y_val)\n",
    "    \n",
    "    def gen_batch(self, x, y):\n",
    "        length = len(x)\n",
    "        bins = length // self.batch_size\n",
    "        \n",
    "        if length % self.batch_size:\n",
    "            bins+=1\n",
    "        \n",
    "        indexes = np.random.permutation(np.arange(len(x)))\n",
    "        x = x[indexes]\n",
    "        y = y[indexes]\n",
    "        \n",
    "        for i in range(bins):\n",
    "            \n",
    "            start = self.batch_size * i\n",
    "            end = self.batch_size * (i + 1)\n",
    "            \n",
    "            yield x[start:end], y[start:end]\n",
    "    \n",
    "    def training(self, x, y):\n",
    "        \n",
    "        m = len(x)\n",
    "        \n",
    "        z = self.forpass(x)\n",
    "        \n",
    "        a = self.sigmoid(z)\n",
    "        \n",
    "        err = -(y - a)\n",
    "        \n",
    "        w1h_grad, w1x_grad, b1_grad, w2_grad, b2_grad = self.backprop(x, err)\n",
    "        \n",
    "        self.w1h -= self.lr * w1h_grad\n",
    "        \n",
    "        self.w1x -= self.lr * w1x_grad\n",
    "        \n",
    "        self.b1 -= self.lr * b1_grad\n",
    "        \n",
    "        self.w2 -= self.lr * w2_grad\n",
    "        \n",
    "        self.b2 -= self.lr * b2_grad\n",
    "        \n",
    "        return a\n",
    "        \n",
    "    def predict(self, x):\n",
    "        \n",
    "        z = self.forpass(x)\n",
    "        return z > 0\n",
    "    \n",
    "    def score(self, x, y):\n",
    "        \n",
    "        return np.mean(self.predict(x) == y.reshape(-1,1))\n",
    "    \n",
    "    def update_val_loss(self, x_val, y_val):\n",
    "        \n",
    "        z = self.forpass(x_val)\n",
    "        \n",
    "        a = self.sigmoid(z)\n",
    "        \n",
    "        a = np.clip(a, 1e-10, 1-1e-10)\n",
    "        \n",
    "        val_loss = np.mean(-(y_val * np.log(a) + (1 - y_val) * np.log(1-a)))\n",
    "        \n",
    "        self.val_losses.append(val_loss)"
   ]
  },
  {
   "cell_type": "code",
   "execution_count": 18,
   "id": "8df74c8e",
   "metadata": {},
   "outputs": [],
   "source": [
    "rn = RecurrentNetwork(n_cells=32, batch_size=32, learning_rate=0.01)"
   ]
  },
  {
   "cell_type": "code",
   "execution_count": 19,
   "id": "2aa8815a",
   "metadata": {},
   "outputs": [
    {
     "name": "stdout",
     "output_type": "stream",
     "text": [
      "epochs 0 .................................................................................................................................................................................................................................................................................................................................................................................................................................................................................................................................................................................................................................................\n",
      "epochs 1 .................................................................................................................................................................................................................................................................................................................................................................................................................................................................................................................................................................................................................................................\n",
      "epochs 2 .................................................................................................................................................................................................................................................................................................................................................................................................................................................................................................................................................................................................................................................\n",
      "epochs 3 .................................................................................................................................................................................................................................................................................................................................................................................................................................................................................................................................................................................................................................................\n",
      "epochs 4 .................................................................................................................................................................................................................................................................................................................................................................................................................................................................................................................................................................................................................................................\n",
      "epochs 5 .................................................................................................................................................................................................................................................................................................................................................................................................................................................................................................................................................................................................................................................\n",
      "epochs 6 .................................................................................................................................................................................................................................................................................................................................................................................................................................................................................................................................................................................................................................................\n",
      "epochs 7 .................................................................................................................................................................................................................................................................................................................................................................................................................................................................................................................................................................................................................................................\n",
      "epochs 8 .................................................................................................................................................................................................................................................................................................................................................................................................................................................................................................................................................................................................................................................\n",
      "epochs 9 .................................................................................................................................................................................................................................................................................................................................................................................................................................................................................................................................................................................................................................................\n",
      "epochs 10 .................................................................................................................................................................................................................................................................................................................................................................................................................................................................................................................................................................................................................................................\n",
      "epochs 11 .................................................................................................................................................................................................................................................................................................................................................................................................................................................................................................................................................................................................................................................\n",
      "epochs 12 .................................................................................................................................................................................................................................................................................................................................................................................................................................................................................................................................................................................................................................................\n",
      "epochs 13 .................................................................................................................................................................................................................................................................................................................................................................................................................................................................................................................................................................................................................................................\n",
      "epochs 14 .................................................................................................................................................................................................................................................................................................................................................................................................................................................................................................................................................................................................................................................\n",
      "epochs 15 .................................................................................................................................................................................................................................................................................................................................................................................................................................................................................................................................................................................................................................................\n",
      "epochs 16 .................................................................................................................................................................................................................................................................................................................................................................................................................................................................................................................................................................................................................................................\n",
      "epochs 17 .................................................................................................................................................................................................................................................................................................................................................................................................................................................................................................................................................................................................................................................\n",
      "epochs 18 .................................................................................................................................................................................................................................................................................................................................................................................................................................................................................................................................................................................................................................................\n",
      "epochs 19 .................................................................................................................................................................................................................................................................................................................................................................................................................................................................................................................................................................................................................................................\n"
     ]
    }
   ],
   "source": [
    "rn.fit(x_train_onehot, y_train, x_val=x_val_onehot, y_val=y_val, epochs=20)"
   ]
  },
  {
   "cell_type": "code",
   "execution_count": 20,
   "id": "fd64429f",
   "metadata": {},
   "outputs": [
    {
     "data": {
      "image/png": "[encoded data removed]",
      "text/plain": [
       "<Figure size 432x288 with 1 Axes>"
      ]
     },
     "metadata": {
      "needs_background": "light"
     },
     "output_type": "display_data"
    }
   ],
   "source": [
    "import matplotlib.pyplot as plt\n",
    "\n",
    "plt.plot(rn.losses)\n",
    "plt.plot(rn.val_losses)\n",
    "plt.ylabel(\"loss\")\n",
    "plt.xlabel(\"iteration\")\n",
    "plt.legend([\"train_loss\", \"val_loss\"])\n",
    "plt.show()"
   ]
  },
  {
   "cell_type": "code",
   "execution_count": 21,
   "id": "2e099e6a",
   "metadata": {},
   "outputs": [
    {
     "data": {
      "text/plain": [
       "0.543425"
      ]
     },
     "execution_count": 21,
     "metadata": {},
     "output_type": "execute_result"
    }
   ],
   "source": [
    "rn.score(x_val_onehot, y_val)"
   ]
  },
  {
   "cell_type": "code",
   "execution_count": 22,
   "id": "fa8d4c70",
   "metadata": {},
   "outputs": [],
   "source": [
    "from tensorflow.keras.models import Sequential\n",
    "\n",
    "from tensorflow.keras.layers import Dense, SimpleRNN"
   ]
  },
  {
   "cell_type": "code",
   "execution_count": 23,
   "id": "6b2ecffe",
   "metadata": {},
   "outputs": [
    {
     "name": "stdout",
     "output_type": "stream",
     "text": [
      "Model: \"sequential\"\n",
      "_________________________________________________________________\n",
      "Layer (type)                 Output Shape              Param #   \n",
      "=================================================================\n",
      "simple_rnn (SimpleRNN)       (None, 32)                4256      \n",
      "_________________________________________________________________\n",
      "dense (Dense)                (None, 1)                 33        \n",
      "=================================================================\n",
      "Total params: 4,289\n",
      "Trainable params: 4,289\n",
      "Non-trainable params: 0\n",
      "_________________________________________________________________\n"
     ]
    }
   ],
   "source": [
    "model = tf.keras.Sequential()\n",
    "model.add(SimpleRNN(32, input_shape=(100,100)))\n",
    "\n",
    "model.add(Dense(1, activation=\"sigmoid\"))\n",
    "\n",
    "model.summary()"
   ]
  },
  {
   "cell_type": "code",
   "execution_count": 24,
   "id": "f10cd791",
   "metadata": {},
   "outputs": [],
   "source": [
    "model.compile(optimizer=\"sgd\", loss=\"binary_crossentropy\", metrics=[\"accuracy\"])"
   ]
  },
  {
   "cell_type": "code",
   "execution_count": 25,
   "id": "ca6ece37",
   "metadata": {},
   "outputs": [
    {
     "name": "stdout",
     "output_type": "stream",
     "text": [
      "Epoch 1/20\n",
      "625/625 [==============================] - 41s 62ms/step - loss: 0.6995 - accuracy: 0.5077 - val_loss: 0.6940 - val_accuracy: 0.5094\n",
      "Epoch 2/20\n",
      "625/625 [==============================] - 38s 61ms/step - loss: 0.6891 - accuracy: 0.5339 - val_loss: 0.6805 - val_accuracy: 0.5630\n",
      "Epoch 3/20\n",
      "625/625 [==============================] - 38s 62ms/step - loss: 0.6645 - accuracy: 0.5990 - val_loss: 0.6393 - val_accuracy: 0.6474\n",
      "Epoch 4/20\n",
      "625/625 [==============================] - 39s 62ms/step - loss: 0.6384 - accuracy: 0.6350 - val_loss: 0.6286 - val_accuracy: 0.6520\n",
      "Epoch 5/20\n",
      "625/625 [==============================] - 39s 62ms/step - loss: 0.6215 - accuracy: 0.6538 - val_loss: 0.6086 - val_accuracy: 0.6736\n",
      "Epoch 6/20\n",
      "625/625 [==============================] - 38s 62ms/step - loss: 0.6104 - accuracy: 0.6694 - val_loss: 0.6493 - val_accuracy: 0.6226\n",
      "Epoch 7/20\n",
      "625/625 [==============================] - 39s 62ms/step - loss: 0.6010 - accuracy: 0.6799 - val_loss: 0.6392 - val_accuracy: 0.6410\n",
      "Epoch 8/20\n",
      "625/625 [==============================] - 39s 62ms/step - loss: 0.5980 - accuracy: 0.6818 - val_loss: 0.5911 - val_accuracy: 0.6896\n",
      "Epoch 9/20\n",
      "625/625 [==============================] - 38s 61ms/step - loss: 0.5863 - accuracy: 0.6920 - val_loss: 0.5969 - val_accuracy: 0.6820\n",
      "Epoch 10/20\n",
      "625/625 [==============================] - 39s 62ms/step - loss: 0.5839 - accuracy: 0.6928 - val_loss: 0.5927 - val_accuracy: 0.6972\n",
      "Epoch 11/20\n",
      "625/625 [==============================] - 39s 62ms/step - loss: 0.5840 - accuracy: 0.6939 - val_loss: 0.5915 - val_accuracy: 0.6894\n",
      "Epoch 12/20\n",
      "625/625 [==============================] - 39s 62ms/step - loss: 0.5774 - accuracy: 0.6993 - val_loss: 0.5685 - val_accuracy: 0.7106\n",
      "Epoch 13/20\n",
      "625/625 [==============================] - 39s 62ms/step - loss: 0.5694 - accuracy: 0.7048 - val_loss: 0.5896 - val_accuracy: 0.6920\n",
      "Epoch 17/20\n",
      "625/625 [==============================] - 38s 61ms/step - loss: 0.5706 - accuracy: 0.7044 - val_loss: 0.6092 - val_accuracy: 0.6718\n",
      "Epoch 18/20\n",
      "625/625 [==============================] - 39s 62ms/step - loss: 0.5671 - accuracy: 0.7039 - val_loss: 0.5634 - val_accuracy: 0.7066\n",
      "Epoch 19/20\n",
      "625/625 [==============================] - 39s 62ms/step - loss: 0.5645 - accuracy: 0.7071 - val_loss: 0.6110 - val_accuracy: 0.6704\n",
      "Epoch 20/20\n",
      "625/625 [==============================] - 38s 61ms/step - loss: 0.5665 - accuracy: 0.7047 - val_loss: 0.5656 - val_accuracy: 0.7096\n"
     ]
    }
   ],
   "source": [
    "history = model.fit(x_train_onehot, y_train, epochs=20, batch_size=32, validation_data=(x_val_onehot, y_val))"
   ]
  },
  {
   "cell_type": "code",
   "execution_count": 26,
   "id": "6833d675",
   "metadata": {},
   "outputs": [
    {
     "data": {
      "image/png": "[encoded data removed]",
      "text/plain": [
       "<Figure size 432x288 with 1 Axes>"
      ]
     },
     "metadata": {
      "needs_background": "light"
     },
     "output_type": "display_data"
    }
   ],
   "source": [
    "plt.plot(history.history[\"accuracy\"])\n",
    "plt.plot(history.history[\"val_accuracy\"])\n",
    "plt.ylabel(\"accuracy\")\n",
    "plt.xlabel(\"epoch\")\n",
    "plt.legend([\"train_accuracy\", \"val_accuracy\"])\n",
    "plt.show()"
   ]
  },
  {
   "cell_type": "code",
   "execution_count": 27,
   "id": "658fb328",
   "metadata": {},
   "outputs": [
    {
     "data": {
      "image/png": "[encoded data removed]",
      "text/plain": [
       "<Figure size 432x288 with 1 Axes>"
      ]
     },
     "metadata": {
      "needs_background": "light"
     },
     "output_type": "display_data"
    }
   ],
   "source": [
    "plt.plot(history.history[\"loss\"])\n",
    "plt.plot(history.history[\"val_loss\"])\n",
    "plt.ylabel(\"loss\")\n",
    "plt.xlabel(\"epoch\")\n",
    "plt.legend([\"train_loss\", \"val_loss\"])\n",
    "plt.show()"
   ]
  },
  {
   "cell_type": "code",
   "execution_count": 28,
   "id": "2ee65e06",
   "metadata": {},
   "outputs": [
    {
     "name": "stdout",
     "output_type": "stream",
     "text": [
      "157/157 [==============================] - 4s 27ms/step - loss: 0.5656 - accuracy: 0.7096\n"
     ]
    }
   ],
   "source": [
    "loss, accuracy = model.evaluate(x_val_onehot, y_val, verbose=1)"
   ]
  },
  {
   "cell_type": "code",
   "execution_count": 29,
   "id": "df937c6c",
   "metadata": {},
   "outputs": [
    {
     "name": "stdout",
     "output_type": "stream",
     "text": [
      "0.7095999717712402\n"
     ]
    }
   ],
   "source": [
    "print(accuracy)"
   ]
  },
  {
   "cell_type": "code",
   "execution_count": 30,
   "id": "d5d62ede",
   "metadata": {},
   "outputs": [],
   "source": [
    "from tensorflow.keras.layers import Embedding"
   ]
  },
  {
   "cell_type": "code",
   "execution_count": 31,
   "id": "bc6405a8",
   "metadata": {},
   "outputs": [
    {
     "name": "stderr",
     "output_type": "stream",
     "text": [
      "<__array_function__ internals>:5: VisibleDeprecationWarning: Creating an ndarray from ragged nested sequences (which is a list-or-tuple of lists-or-tuples-or ndarrays with different lengths or shapes) is deprecated. If you meant to do this, you must specify 'dtype=object' when creating the ndarray\n",
      "/usr/local/lib/python3.8/dist-packages/tensorflow/python/keras/datasets/imdb.py:155: VisibleDeprecationWarning: Creating an ndarray from ragged nested sequences (which is a list-or-tuple of lists-or-tuples-or ndarrays with different lengths or shapes) is deprecated. If you meant to do this, you must specify 'dtype=object' when creating the ndarray\n",
      "  x_train, y_train = np.array(xs[:idx]), np.array(labels[:idx])\n",
      "/usr/local/lib/python3.8/dist-packages/tensorflow/python/keras/datasets/imdb.py:156: VisibleDeprecationWarning: Creating an ndarray from ragged nested sequences (which is a list-or-tuple of lists-or-tuples-or ndarrays with different lengths or shapes) is deprecated. If you meant to do this, you must specify 'dtype=object' when creating the ndarray\n",
      "  x_test, y_test = np.array(xs[idx:]), np.array(labels[idx:])\n"
     ]
    }
   ],
   "source": [
    "(x_train_all, y_train_all), (x_test, y_test) = imdb.load_data(skip_top=20, num_words=1000)"
   ]
  },
  {
   "cell_type": "code",
   "execution_count": 32,
   "id": "7d650f75",
   "metadata": {},
   "outputs": [],
   "source": [
    "for i in range(len(x_train_all)):\n",
    "    x_train_all[i] = [w for w in x_train_all[i] if w>2]\n",
    "    \n",
    "x_train = x_train_all[random_index[:20000]]\n",
    "y_train = y_train_all[random_index[:20000]]\n",
    "x_val = x_train_all[random_index[20000:]]\n",
    "y_val = y_train_all[random_index[20000:]]"
   ]
  },
  {
   "cell_type": "code",
   "execution_count": 33,
   "id": "07662e86",
   "metadata": {},
   "outputs": [],
   "source": [
    "maxlen = 100\n",
    "x_train_seq = sequence.pad_sequences(x_train, maxlen=maxlen)\n",
    "x_val_seq = sequence.pad_sequences(x_val, maxlen=maxlen)"
   ]
  },
  {
   "cell_type": "code",
   "execution_count": 34,
   "id": "a4973279",
   "metadata": {},
   "outputs": [
    {
     "name": "stdout",
     "output_type": "stream",
     "text": [
      "Model: \"sequential_1\"\n",
      "_________________________________________________________________\n",
      "Layer (type)                 Output Shape              Param #   \n",
      "=================================================================\n",
      "embedding (Embedding)        (None, None, 32)          32000     \n",
      "_________________________________________________________________\n",
      "simple_rnn_1 (SimpleRNN)     (None, 8)                 328       \n",
      "_________________________________________________________________\n",
      "dense_1 (Dense)              (None, 1)                 9         \n",
      "=================================================================\n",
      "Total params: 32,337\n",
      "Trainable params: 32,337\n",
      "Non-trainable params: 0\n",
      "_________________________________________________________________\n"
     ]
    }
   ],
   "source": [
    "model_ebd = tf.keras.Sequential()\n",
    "model_ebd.add(Embedding(1000,32))\n",
    "\n",
    "model_ebd.add(SimpleRNN(8))\n",
    "model_ebd.add(Dense(1, activation=\"sigmoid\"))\n",
    "\n",
    "model_ebd.summary()"
   ]
  },
  {
   "cell_type": "code",
   "execution_count": 35,
   "id": "8db90178",
   "metadata": {},
   "outputs": [],
   "source": [
    "model_ebd.compile(optimizer=\"adam\", loss=\"binary_crossentropy\", metrics=[\"accuracy\"])"
   ]
  },
  {
   "cell_type": "code",
   "execution_count": 36,
   "id": "c3f34054",
   "metadata": {},
   "outputs": [
    {
     "name": "stdout",
     "output_type": "stream",
     "text": [
      "Epoch 1/10\n",
      "625/625 [==============================] - 66s 104ms/step - loss: 0.5336 - accuracy: 0.7297 - val_loss: 0.4592 - val_accuracy: 0.7948\n",
      "Epoch 2/10\n",
      "625/625 [==============================] - 64s 102ms/step - loss: 0.4044 - accuracy: 0.8299 - val_loss: 0.4357 - val_accuracy: 0.8014\n",
      "Epoch 3/10\n",
      "625/625 [==============================] - 64s 102ms/step - loss: 0.3492 - accuracy: 0.8583 - val_loss: 0.3913 - val_accuracy: 0.8314\n",
      "Epoch 4/10\n",
      "625/625 [==============================] - 64s 102ms/step - loss: 0.3147 - accuracy: 0.8736 - val_loss: 0.3945 - val_accuracy: 0.8294\n",
      "Epoch 5/10\n",
      "494/625 [======================>.......] - ETA: 12s - loss: 0.2822 - accuracy: 0.8880"
     ]
    },
    {
     "name": "stderr",
     "output_type": "stream",
     "text": [
      "IOPub message rate exceeded.\n",
      "The notebook server will temporarily stop sending output\n",
      "to the client in order to avoid crashing it.\n",
      "To change this limit, set the config variable\n",
      "`--NotebookApp.iopub_msg_rate_limit`.\n",
      "\n",
      "Current values:\n",
      "NotebookApp.iopub_msg_rate_limit=1000.0 (msgs/sec)\n",
      "NotebookApp.rate_limit_window=3.0 (secs)\n",
      "\n"
     ]
    }
   ],
   "source": [
    "history = model_ebd.fit(x_train_seq, y_train, epochs=10,batch_size=32, validation_data=(x_val_seq, y_val))"
   ]
  },
  {
   "cell_type": "code",
   "execution_count": 37,
   "id": "1be179af",
   "metadata": {},
   "outputs": [
    {
     "data": {
      "image/png": "[encoded data removed]",
      "text/plain": [
       "<Figure size 432x288 with 1 Axes>"
      ]
     },
     "metadata": {
      "needs_background": "light"
     },
     "output_type": "display_data"
    }
   ],
   "source": [
    "plt.plot(history.history[\"loss\"])\n",
    "plt.plot(history.history[\"val_loss\"])\n",
    "plt.ylabel(\"loss\")\n",
    "plt.xlabel(\"epoch\")\n",
    "plt.legend([\"train_loss\", \"val_loss\"])\n",
    "plt.show()"
   ]
  },
  {
   "cell_type": "code",
   "execution_count": 38,
   "id": "dfeff965",
   "metadata": {},
   "outputs": [
    {
     "data": {
      "image/png": "[encoded data removed]",
      "text/plain": [
       "<Figure size 432x288 with 1 Axes>"
      ]
     },
     "metadata": {
      "needs_background": "light"
     },
     "output_type": "display_data"
    }
   ],
   "source": [
    "plt.plot(history.history[\"accuracy\"])\n",
    "plt.plot(history.history[\"val_accuracy\"])\n",
    "plt.ylabel(\"accuracy\")\n",
    "plt.xlabel(\"epoch\")\n",
    "plt.legend([\"train_accuracy\", \"val_accuracy\"])\n",
    "plt.show()"
   ]
  },
  {
   "cell_type": "code",
   "execution_count": 39,
   "id": "67ef8c13",
   "metadata": {},
   "outputs": [
    {
     "name": "stdout",
     "output_type": "stream",
     "text": [
      "157/157 [==============================] - 5s 31ms/step - loss: 0.4939 - accuracy: 0.8222\n",
      "0.8222000002861023\n"
     ]
    }
   ],
   "source": [
    "loss, accuracy = model_ebd.evaluate(x_val_seq, y_val, verbose=1)\n",
    "print(accuracy)"
   ]
  },
  {
   "cell_type": "code",
   "execution_count": 40,
   "id": "55ca58f0",
   "metadata": {},
   "outputs": [
    {
     "name": "stdout",
     "output_type": "stream",
     "text": [
      "Model: \"sequential_2\"\n",
      "_________________________________________________________________\n",
      "Layer (type)                 Output Shape              Param #   \n",
      "=================================================================\n",
      "embedding_1 (Embedding)      (None, None, 32)          32000     \n",
      "_________________________________________________________________\n",
      "lstm (LSTM)                  (None, 8)                 1312      \n",
      "_________________________________________________________________\n",
      "dense_2 (Dense)              (None, 1)                 9         \n",
      "=================================================================\n",
      "Total params: 33,321\n",
      "Trainable params: 33,321\n",
      "Non-trainable params: 0\n",
      "_________________________________________________________________\n"
     ]
    }
   ],
   "source": [
    "from tensorflow.keras.layers import LSTM\n",
    "\n",
    "model_lstm = tf.keras.Sequential()\n",
    "model_lstm.add(Embedding(1000,32))\n",
    "\n",
    "model_lstm.add(LSTM(8))\n",
    "model_lstm.add(Dense(1, activation=\"sigmoid\"))\n",
    "\n",
    "model_lstm.summary()"
   ]
  },
  {
   "cell_type": "code",
   "execution_count": 41,
   "id": "f0d4f6b3",
   "metadata": {},
   "outputs": [],
   "source": [
    "model_lstm.compile(optimizer=\"adam\", loss=\"binary_crossentropy\", metrics=[\"accuracy\"])"
   ]
  },
  {
   "cell_type": "code",
   "execution_count": 42,
   "id": "7485c7bd",
   "metadata": {},
   "outputs": [
    {
     "name": "stdout",
     "output_type": "stream",
     "text": [
      "Epoch 1/10\n",
      "625/625 [==============================] - 15s 20ms/step - loss: 0.4342 - accuracy: 0.8026 - val_loss: 0.3680 - val_accuracy: 0.8398\n",
      "Epoch 2/10\n",
      "625/625 [==============================] - 12s 20ms/step - loss: 0.3358 - accuracy: 0.8594 - val_loss: 0.3581 - val_accuracy: 0.8428\n",
      "Epoch 3/10\n",
      "625/625 [==============================] - 12s 20ms/step - loss: 0.3132 - accuracy: 0.8677 - val_loss: 0.3807 - val_accuracy: 0.8410\n",
      "Epoch 4/10\n",
      "625/625 [==============================] - 12s 20ms/step - loss: 0.2979 - accuracy: 0.8747 - val_loss: 0.3579 - val_accuracy: 0.8408\n",
      "Epoch 5/10\n",
      "625/625 [==============================] - 12s 20ms/step - loss: 0.2852 - accuracy: 0.8814 - val_loss: 0.3620 - val_accuracy: 0.8422\n",
      "Epoch 6/10\n",
      "625/625 [==============================] - 12s 20ms/step - loss: 0.2729 - accuracy: 0.8860 - val_loss: 0.3754 - val_accuracy: 0.8336\n",
      "Epoch 7/10\n",
      "625/625 [==============================] - 12s 20ms/step - loss: 0.2634 - accuracy: 0.8910 - val_loss: 0.3779 - val_accuracy: 0.8404\n",
      "Epoch 8/10\n",
      "625/625 [==============================] - 12s 20ms/step - loss: 0.2514 - accuracy: 0.8960 - val_loss: 0.4007 - val_accuracy: 0.8372\n",
      "Epoch 9/10\n",
      "625/625 [==============================] - 12s 20ms/step - loss: 0.2426 - accuracy: 0.9008 - val_loss: 0.3984 - val_accuracy: 0.8306\n",
      "Epoch 10/10\n",
      "625/625 [==============================] - 12s 20ms/step - loss: 0.2319 - accuracy: 0.9051 - val_loss: 0.4402 - val_accuracy: 0.8272\n"
     ]
    }
   ],
   "source": [
    "history = model_lstm.fit(x_train_seq, y_train, epochs=10, batch_size=32, validation_data=(x_val_seq, y_val))"
   ]
  },
  {
   "cell_type": "code",
   "execution_count": 43,
   "id": "fe5d183e",
   "metadata": {},
   "outputs": [
    {
     "data": {
      "image/png": "[encoded data removed]",
      "text/plain": [
       "<Figure size 432x288 with 1 Axes>"
      ]
     },
     "metadata": {
      "needs_background": "light"
     },
     "output_type": "display_data"
    }
   ],
   "source": [
    "plt.plot(history.history[\"loss\"])\n",
    "plt.plot(history.history[\"val_loss\"])\n",
    "plt.ylabel(\"loss\")\n",
    "plt.xlabel(\"epoch\")\n",
    "plt.legend([\"train_loss\", \"val_loss\"])\n",
    "plt.show()"
   ]
  },
  {
   "cell_type": "code",
   "execution_count": 44,
   "id": "2d197fc9",
   "metadata": {},
   "outputs": [
    {
     "data": {
      "image/png": "[encoded data removed]",
      "text/plain": [
       "<Figure size 432x288 with 1 Axes>"
      ]
     },
     "metadata": {
      "needs_background": "light"
     },
     "output_type": "display_data"
    }
   ],
   "source": [
    "plt.plot(history.history[\"accuracy\"])\n",
    "plt.plot(history.history[\"val_accuracy\"])\n",
    "plt.ylabel(\"accuracy\")\n",
    "plt.xlabel(\"epoch\")\n",
    "plt.legend([\"train_accuracy\", \"val_accuracy\"])\n",
    "plt.show()"
   ]
  },
  {
   "cell_type": "code",
   "execution_count": 45,
   "id": "7d2f84e8",
   "metadata": {},
   "outputs": [
    {
     "name": "stdout",
     "output_type": "stream",
     "text": [
      "157/157 [==============================] - 2s 14ms/step - loss: 0.4402 - accuracy: 0.8272\n",
      "0.8271999955177307\n"
     ]
    }
   ],
   "source": [
    "loss, accuracy = model_lstm.evaluate(x_val_seq, y_val, verbose=1)\n",
    "print(accuracy)"
   ]
  },
  {
   "cell_type": "code",
   "execution_count": null,
   "id": "c2123d33",
   "metadata": {},
   "outputs": [],
   "source": []
  }
 ],
 "metadata": {
  "kernelspec": {
   "display_name": "TensorFlow 2.5 on Python 3.8 & CUDA 11.3",
   "language": "python",
   "name": "python3"
  },
  "language_info": {
   "codemirror_mode": {
    "name": "ipython",
    "version": 3
   },
   "file_extension": ".py",
   "mimetype": "text/x-python",
   "name": "python",
   "nbconvert_exporter": "python",
   "pygments_lexer": "ipython3",
   "version": "3.8.10"
  }
 },
 "nbformat": 4,
 "nbformat_minor": 5
}
