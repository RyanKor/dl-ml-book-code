{
 "cells": [
  {
   "cell_type": "code",
   "execution_count": 1,
   "id": "7ebc700b",
   "metadata": {},
   "outputs": [],
   "source": [
    "import tensorflow as tf\n",
    "import numpy as np"
   ]
  },
  {
   "cell_type": "code",
   "execution_count": 2,
   "id": "22299f84",
   "metadata": {},
   "outputs": [],
   "source": [
    "class ConvolutionNetwork:\n",
    "    \n",
    "    def __init__(self, n_kernels=10, units=10, batch_size=32, learning_rate=0.1):\n",
    "        self.n_kernels = n_kernels\n",
    "        self.kernel_size = 3\n",
    "        self.optimizer = None\n",
    "        self.conv_w = None\n",
    "        self.conv_b = None\n",
    "        self.units = units\n",
    "        self.batch_size = batch_size\n",
    "        self.w1 = None\n",
    "        self.b1 = None\n",
    "        self.w2 = None\n",
    "        self.b2 = None\n",
    "        self.a1 = None\n",
    "        self.losses = []\n",
    "        self.val_losses = []\n",
    "        self.lr = learning_rate\n",
    "        \n",
    "    def forpass(self, x):\n",
    "        c_out = tf.nn.conv2d(x, self.conv_w, strides=1, padding=\"SAME\") + self.conv_b\n",
    "        \n",
    "        r_out = tf.nn.relu(c_out)\n",
    "        \n",
    "        p_out = tf.nn.max_pool2d(r_out, ksize=2, strides=2, padding=\"VALID\")\n",
    "        \n",
    "        f_out = tf.reshape(p_out, [x.shape[0], -1])\n",
    "        \n",
    "        z1 = tf.matmul(f_out, self.w1) + self.b1\n",
    "        \n",
    "        a1 = tf.nn.relu(z1)\n",
    "        \n",
    "        z2 = tf.matmul(a1, self.w2) + self.b2\n",
    "        return z2\n",
    "    \n",
    "    def init_weights(self, input_shape, n_classes):\n",
    "        g = tf.initializers.glorot_uniform()\n",
    "        \n",
    "        self.conv_w = tf.Variable(g((3, 3, 1, self.n_kernels)))\n",
    "        \n",
    "        self.conv_b = tf.Variable(np.zeros(self.n_kernels), dtype=float)\n",
    "        \n",
    "        n_features = 14 * 14 * self.n_kernels\n",
    "        \n",
    "        self.w1 = tf.Variable(g((n_features, self.units)))\n",
    "        \n",
    "        self.b1 = tf.Variable(np.zeros(self.units), dtype=float)\n",
    "        \n",
    "        self.w2 = tf.Variable(g((self.units, n_classes)))\n",
    "        \n",
    "        self.b2 = tf.Variable(np.zeros(n_classes), dtype=float)\n",
    "    \n",
    "    def fit(self, x, y, epochs=100, x_val=None, y_val=None):\n",
    "        self.init_weights(x.shape, y.shape[1])\n",
    "        \n",
    "        self.optimizer = tf.optimizers.SGD(learning_rate=self.lr)\n",
    "        \n",
    "        for i in range(epochs):\n",
    "            print(\"epochs\", i, end=\" \")\n",
    "            \n",
    "            batch_losses = []\n",
    "            for x_batch, y_batch in self.gen_batch(x,y):\n",
    "                print(\".\", end=\"\")\n",
    "                self.training(x_batch, y_batch)\n",
    "                \n",
    "                batch_losses.append(self.get_loss(x_batch, y_batch))\n",
    "            print( )\n",
    "            \n",
    "            self.losses.append(np.mean(batch_losses))\n",
    "            \n",
    "            self.val_losses.append(self.get_loss(x_val, y_val))\n",
    "    \n",
    "    def gen_batch(self, x, y):\n",
    "        \n",
    "        bins = len(x) // self.batch_size\n",
    "        indexes = np.random.permutation(np.arange(len(x)))\n",
    "        x = x[indexes]\n",
    "        y = y[indexes]\n",
    "        \n",
    "        for i in range(bins):\n",
    "            \n",
    "            start = self.batch_size * i\n",
    "            end = self.batch_size * (i + 1)\n",
    "            \n",
    "            yield x[start:end], y[start:end]\n",
    "    \n",
    "    def training(self, x, y):\n",
    "        \n",
    "        m = len(x)\n",
    "        \n",
    "        with tf.GradientTape() as tape:\n",
    "            z = self.forpass(x)\n",
    "            loss = tf.nn.softmax_cross_entropy_with_logits(y, z)\n",
    "            loss = tf.reduce_mean(loss)\n",
    "        weights_list = [self.conv_w, self.conv_b, self.w1, self.b1, self.w2, self.b2]\n",
    "        \n",
    "        grads = tape.gradient(loss, weights_list)\n",
    "        \n",
    "        self.optimizer.apply_gradients(zip(grads, weights_list))\n",
    "        \n",
    "    def predict(self, x):\n",
    "        \n",
    "        z = self.forpass(x)\n",
    "        return np.argmax(z.numpy(), axis=1)\n",
    "    \n",
    "    def score(self, x, y):\n",
    "        return np.mean(self.predict(x) == np.argmax(y, axis=1))\n",
    "    \n",
    "    def get_loss(self, x, y):\n",
    "        \n",
    "        z = self.forpass(x)\n",
    "        \n",
    "        loss = tf.reduce_mean(tf.nn.softmax_cross_entropy_with_logits(y, z))\n",
    "        \n",
    "        return loss.numpy()"
   ]
  },
  {
   "cell_type": "code",
   "execution_count": 3,
   "id": "c08e7e0f",
   "metadata": {},
   "outputs": [],
   "source": [
    "(x_train_all, y_train_all), (x_test, y_test) = tf.keras.datasets.fashion_mnist.load_data()"
   ]
  },
  {
   "cell_type": "code",
   "execution_count": 4,
   "id": "70dcc103",
   "metadata": {},
   "outputs": [],
   "source": [
    "from sklearn.model_selection import train_test_split\n",
    "\n",
    "x_train, x_val, y_train, y_val = train_test_split(x_train_all, y_train_all, stratify=y_train_all, test_size=0.2, random_state=42)"
   ]
  },
  {
   "cell_type": "code",
   "execution_count": 5,
   "id": "95628e9c",
   "metadata": {},
   "outputs": [],
   "source": [
    "y_train_encoded = tf.keras.utils.to_categorical(y_train)\n",
    "y_val_encoded = tf.keras.utils.to_categorical(y_val)"
   ]
  },
  {
   "cell_type": "code",
   "execution_count": 6,
   "id": "97e057cf",
   "metadata": {},
   "outputs": [],
   "source": [
    "x_train = x_train.reshape(-1, 28, 28, 1)\n",
    "x_val = x_val.reshape(-1, 28, 28, 1)"
   ]
  },
  {
   "cell_type": "code",
   "execution_count": 7,
   "id": "01951912",
   "metadata": {},
   "outputs": [
    {
     "data": {
      "text/plain": [
       "(48000, 28, 28, 1)"
      ]
     },
     "execution_count": 7,
     "metadata": {},
     "output_type": "execute_result"
    }
   ],
   "source": [
    "x_train.shape"
   ]
  },
  {
   "cell_type": "code",
   "execution_count": 8,
   "id": "934beec5",
   "metadata": {},
   "outputs": [],
   "source": [
    "x_train = x_train / 255\n",
    "x_val = x_val / 255"
   ]
  },
  {
   "cell_type": "code",
   "execution_count": 9,
   "id": "8df74c8e",
   "metadata": {},
   "outputs": [],
   "source": [
    "cn = ConvolutionNetwork(n_kernels=10, units=100, batch_size=128, learning_rate=0.01)"
   ]
  },
  {
   "cell_type": "code",
   "execution_count": 10,
   "id": "2aa8815a",
   "metadata": {},
   "outputs": [
    {
     "name": "stdout",
     "output_type": "stream",
     "text": [
      "epochs 0 .......................................................................................................................................................................................................................................................................................................................................................................................\n",
      "epochs 1 .......................................................................................................................................................................................................................................................................................................................................................................................\n",
      "epochs 2 .......................................................................................................................................................................................................................................................................................................................................................................................\n",
      "epochs 3 .......................................................................................................................................................................................................................................................................................................................................................................................\n",
      "epochs 4 .......................................................................................................................................................................................................................................................................................................................................................................................\n",
      "epochs 5 .......................................................................................................................................................................................................................................................................................................................................................................................\n",
      "epochs 6 .......................................................................................................................................................................................................................................................................................................................................................................................\n",
      "epochs 7 .......................................................................................................................................................................................................................................................................................................................................................................................\n",
      "epochs 8 .......................................................................................................................................................................................................................................................................................................................................................................................\n",
      "epochs 9 .......................................................................................................................................................................................................................................................................................................................................................................................\n",
      "epochs 10 .......................................................................................................................................................................................................................................................................................................................................................................................\n",
      "epochs 11 .......................................................................................................................................................................................................................................................................................................................................................................................\n",
      "epochs 12 .......................................................................................................................................................................................................................................................................................................................................................................................\n",
      "epochs 13 .......................................................................................................................................................................................................................................................................................................................................................................................\n",
      "epochs 14 .......................................................................................................................................................................................................................................................................................................................................................................................\n",
      "epochs 15 .......................................................................................................................................................................................................................................................................................................................................................................................\n",
      "epochs 16 .......................................................................................................................................................................................................................................................................................................................................................................................\n",
      "epochs 17 .......................................................................................................................................................................................................................................................................................................................................................................................\n",
      "epochs 18 .......................................................................................................................................................................................................................................................................................................................................................................................\n",
      "epochs 19 .......................................................................................................................................................................................................................................................................................................................................................................................\n"
     ]
    }
   ],
   "source": [
    "cn.fit(x_train, y_train_encoded, x_val=x_val, y_val=y_val_encoded, epochs=20)"
   ]
  },
  {
   "cell_type": "code",
   "execution_count": 11,
   "id": "fd64429f",
   "metadata": {},
   "outputs": [
    {
     "data": {
      "image/png": "[encoded data removed]",
      "text/plain": [
       "<Figure size 432x288 with 1 Axes>"
      ]
     },
     "metadata": {
      "needs_background": "light"
     },
     "output_type": "display_data"
    }
   ],
   "source": [
    "import matplotlib.pyplot as plt\n",
    "\n",
    "plt.plot(cn.losses)\n",
    "plt.plot(cn.val_losses)\n",
    "plt.ylabel(\"loss\")\n",
    "plt.xlabel(\"iteration\")\n",
    "plt.legend([\"train_loss\", \"val_loss\"])\n",
    "plt.show()"
   ]
  },
  {
   "cell_type": "code",
   "execution_count": 12,
   "id": "150625ca",
   "metadata": {},
   "outputs": [
    {
     "data": {
      "text/plain": [
       "0.88125"
      ]
     },
     "execution_count": 12,
     "metadata": {},
     "output_type": "execute_result"
    }
   ],
   "source": [
    "cn.score(x_val, y_val_encoded)"
   ]
  },
  {
   "cell_type": "code",
   "execution_count": 13,
   "id": "045cfba1",
   "metadata": {},
   "outputs": [],
   "source": [
    "from tensorflow.keras.layers import Conv2D, MaxPooling2D, Flatten, Dense, Dropout\n",
    "\n",
    "conv1 = tf.keras.Sequential()\n",
    "conv1.add(Conv2D(10, (3,3), activation=\"relu\", padding=\"same\", input_shape=(28,28, 1)))\n",
    "conv1.add(MaxPooling2D((2,2)))\n",
    "conv1.add(Flatten())\n",
    "conv1.add(Dense(100, activation=\"relu\"))\n",
    "conv1.add(Dense(10, activation=\"softmax\"))"
   ]
  },
  {
   "cell_type": "code",
   "execution_count": 14,
   "id": "54f3899c",
   "metadata": {},
   "outputs": [
    {
     "name": "stdout",
     "output_type": "stream",
     "text": [
      "Model: \"sequential\"\n",
      "_________________________________________________________________\n",
      "Layer (type)                 Output Shape              Param #   \n",
      "=================================================================\n",
      "conv2d (Conv2D)              (None, 28, 28, 10)        100       \n",
      "_________________________________________________________________\n",
      "max_pooling2d (MaxPooling2D) (None, 14, 14, 10)        0         \n",
      "_________________________________________________________________\n",
      "flatten (Flatten)            (None, 1960)              0         \n",
      "_________________________________________________________________\n",
      "dense (Dense)                (None, 100)               196100    \n",
      "_________________________________________________________________\n",
      "dense_1 (Dense)              (None, 10)                1010      \n",
      "=================================================================\n",
      "Total params: 197,210\n",
      "Trainable params: 197,210\n",
      "Non-trainable params: 0\n",
      "_________________________________________________________________\n"
     ]
    }
   ],
   "source": [
    "conv1.summary()"
   ]
  },
  {
   "cell_type": "code",
   "execution_count": 15,
   "id": "521620aa",
   "metadata": {},
   "outputs": [],
   "source": [
    "conv1.compile(optimizer=\"adam\", loss=\"categorical_crossentropy\", metrics=[\"accuracy\"])"
   ]
  },
  {
   "cell_type": "code",
   "execution_count": 16,
   "id": "d57ec62f",
   "metadata": {},
   "outputs": [
    {
     "name": "stdout",
     "output_type": "stream",
     "text": [
      "Epoch 1/20\n",
      "1500/1500 [==============================] - 9s 4ms/step - loss: 0.4373 - accuracy: 0.8456 - val_loss: 0.3259 - val_accuracy: 0.8824\n",
      "Epoch 2/20\n",
      "1500/1500 [==============================] - 6s 4ms/step - loss: 0.3054 - accuracy: 0.8892 - val_loss: 0.3015 - val_accuracy: 0.8940\n",
      "Epoch 3/20\n",
      "1500/1500 [==============================] - 6s 4ms/step - loss: 0.2616 - accuracy: 0.9038 - val_loss: 0.2775 - val_accuracy: 0.8989\n",
      "Epoch 4/20\n",
      "1500/1500 [==============================] - 6s 4ms/step - loss: 0.2319 - accuracy: 0.9149 - val_loss: 0.2533 - val_accuracy: 0.9100\n",
      "Epoch 5/20\n",
      "1500/1500 [==============================] - 6s 4ms/step - loss: 0.2062 - accuracy: 0.9233 - val_loss: 0.2508 - val_accuracy: 0.9128\n",
      "Epoch 6/20\n",
      "1500/1500 [==============================] - 6s 4ms/step - loss: 0.1848 - accuracy: 0.9315 - val_loss: 0.2573 - val_accuracy: 0.9082\n",
      "Epoch 7/20\n",
      "1500/1500 [==============================] - 6s 4ms/step - loss: 0.1679 - accuracy: 0.9374 - val_loss: 0.2412 - val_accuracy: 0.9173\n",
      "Epoch 8/20\n",
      "1500/1500 [==============================] - 6s 4ms/step - loss: 0.1511 - accuracy: 0.9442 - val_loss: 0.2540 - val_accuracy: 0.9152\n",
      "Epoch 9/20\n",
      "1500/1500 [==============================] - 6s 4ms/step - loss: 0.1341 - accuracy: 0.9500 - val_loss: 0.2724 - val_accuracy: 0.9113\n",
      "Epoch 10/20\n",
      "1500/1500 [==============================] - 6s 4ms/step - loss: 0.1196 - accuracy: 0.9557 - val_loss: 0.2782 - val_accuracy: 0.9151\n",
      "Epoch 11/20\n",
      "1500/1500 [==============================] - 6s 4ms/step - loss: 0.1095 - accuracy: 0.9600 - val_loss: 0.2730 - val_accuracy: 0.9135\n",
      "Epoch 12/20\n",
      "1500/1500 [==============================] - 6s 4ms/step - loss: 0.0960 - accuracy: 0.9647 - val_loss: 0.2888 - val_accuracy: 0.9140\n",
      "Epoch 13/20\n",
      "1500/1500 [==============================] - 6s 4ms/step - loss: 0.0866 - accuracy: 0.9679 - val_loss: 0.2882 - val_accuracy: 0.9177\n",
      "Epoch 14/20\n",
      "1500/1500 [==============================] - 6s 4ms/step - loss: 0.0792 - accuracy: 0.9705 - val_loss: 0.2910 - val_accuracy: 0.9190\n",
      "Epoch 15/20\n",
      "1500/1500 [==============================] - 6s 4ms/step - loss: 0.0716 - accuracy: 0.9741 - val_loss: 0.3215 - val_accuracy: 0.9122\n",
      "Epoch 16/20\n",
      "1500/1500 [==============================] - 6s 4ms/step - loss: 0.0637 - accuracy: 0.9766 - val_loss: 0.3425 - val_accuracy: 0.9147\n",
      "Epoch 17/20\n",
      "1500/1500 [==============================] - 6s 4ms/step - loss: 0.0558 - accuracy: 0.9801 - val_loss: 0.3570 - val_accuracy: 0.9117\n",
      "Epoch 18/20\n",
      "1500/1500 [==============================] - 6s 4ms/step - loss: 0.0537 - accuracy: 0.9804 - val_loss: 0.3942 - val_accuracy: 0.9032\n",
      "Epoch 19/20\n",
      "1500/1500 [==============================] - 6s 4ms/step - loss: 0.0472 - accuracy: 0.9829 - val_loss: 0.3615 - val_accuracy: 0.9181\n",
      "Epoch 20/20\n",
      "1500/1500 [==============================] - 6s 4ms/step - loss: 0.0444 - accuracy: 0.9840 - val_loss: 0.3838 - val_accuracy: 0.9154\n"
     ]
    }
   ],
   "source": [
    "history = conv1.fit(x_train, y_train_encoded, epochs=20, validation_data=(x_val, y_val_encoded))"
   ]
  },
  {
   "cell_type": "code",
   "execution_count": 17,
   "id": "a959448f",
   "metadata": {},
   "outputs": [
    {
     "data": {
      "image/png": "[encoded data removed]",
      "text/plain": [
       "<Figure size 432x288 with 1 Axes>"
      ]
     },
     "metadata": {
      "needs_background": "light"
     },
     "output_type": "display_data"
    }
   ],
   "source": [
    "plt.plot(history.history[\"loss\"])\n",
    "plt.plot(history.history[\"val_loss\"])\n",
    "plt.ylabel(\"loss\")\n",
    "plt.xlabel(\"epoch\")\n",
    "plt.legend([\"train_loss\", \"val_loss\"])\n",
    "plt.show()"
   ]
  },
  {
   "cell_type": "code",
   "execution_count": 18,
   "id": "6833d675",
   "metadata": {},
   "outputs": [
    {
     "data": {
      "image/png": "[encoded data removed]",
      "text/plain": [
       "<Figure size 432x288 with 1 Axes>"
      ]
     },
     "metadata": {
      "needs_background": "light"
     },
     "output_type": "display_data"
    }
   ],
   "source": [
    "plt.plot(history.history[\"accuracy\"])\n",
    "plt.plot(history.history[\"val_accuracy\"])\n",
    "plt.ylabel(\"accuracy\")\n",
    "plt.xlabel(\"epoch\")\n",
    "plt.legend([\"train_accuracy\", \"val_accuracy\"])\n",
    "plt.show()"
   ]
  },
  {
   "cell_type": "code",
   "execution_count": 19,
   "id": "212fb20f",
   "metadata": {},
   "outputs": [],
   "source": [
    "conv2 = tf.keras.Sequential()\n",
    "conv2.add(Conv2D(10, (3,3), activation=\"relu\", padding=\"same\", input_shape=(28,28, 1)))\n",
    "conv2.add(MaxPooling2D((2,2)))\n",
    "conv2.add(Flatten())\n",
    "conv2.add(Dropout(0.5))\n",
    "conv2.add(Dense(100, activation=\"relu\"))\n",
    "conv2.add(Dense(10, activation=\"softmax\"))"
   ]
  },
  {
   "cell_type": "code",
   "execution_count": 20,
   "id": "4b54c1a3",
   "metadata": {},
   "outputs": [
    {
     "name": "stdout",
     "output_type": "stream",
     "text": [
      "Model: \"sequential_1\"\n",
      "_________________________________________________________________\n",
      "Layer (type)                 Output Shape              Param #   \n",
      "=================================================================\n",
      "conv2d_1 (Conv2D)            (None, 28, 28, 10)        100       \n",
      "_________________________________________________________________\n",
      "max_pooling2d_1 (MaxPooling2 (None, 14, 14, 10)        0         \n",
      "_________________________________________________________________\n",
      "flatten_1 (Flatten)          (None, 1960)              0         \n",
      "_________________________________________________________________\n",
      "dropout (Dropout)            (None, 1960)              0         \n",
      "_________________________________________________________________\n",
      "dense_2 (Dense)              (None, 100)               196100    \n",
      "_________________________________________________________________\n",
      "dense_3 (Dense)              (None, 10)                1010      \n",
      "=================================================================\n",
      "Total params: 197,210\n",
      "Trainable params: 197,210\n",
      "Non-trainable params: 0\n",
      "_________________________________________________________________\n"
     ]
    }
   ],
   "source": [
    "conv2.summary()"
   ]
  },
  {
   "cell_type": "code",
   "execution_count": 21,
   "id": "b0a1d27b",
   "metadata": {},
   "outputs": [],
   "source": [
    "conv2.compile(optimizer=\"adam\", loss=\"categorical_crossentropy\", metrics=[\"accuracy\"])"
   ]
  },
  {
   "cell_type": "code",
   "execution_count": 22,
   "id": "43b6eb19",
   "metadata": {},
   "outputs": [
    {
     "name": "stdout",
     "output_type": "stream",
     "text": [
      "Epoch 1/20\n",
      "1500/1500 [==============================] - 7s 4ms/step - loss: 0.5343 - accuracy: 0.8067 - val_loss: 0.3710 - val_accuracy: 0.8716\n",
      "Epoch 2/20\n",
      "1500/1500 [==============================] - 6s 4ms/step - loss: 0.3896 - accuracy: 0.8588 - val_loss: 0.3197 - val_accuracy: 0.8856\n",
      "Epoch 3/20\n",
      "1500/1500 [==============================] - 6s 4ms/step - loss: 0.3418 - accuracy: 0.8762 - val_loss: 0.2925 - val_accuracy: 0.8948\n",
      "Epoch 4/20\n",
      "1500/1500 [==============================] - 6s 4ms/step - loss: 0.3141 - accuracy: 0.8843 - val_loss: 0.2708 - val_accuracy: 0.9030\n",
      "Epoch 5/20\n",
      "1500/1500 [==============================] - 6s 4ms/step - loss: 0.2901 - accuracy: 0.8927 - val_loss: 0.2553 - val_accuracy: 0.9084\n",
      "Epoch 6/20\n",
      "1500/1500 [==============================] - 6s 4ms/step - loss: 0.2727 - accuracy: 0.8990 - val_loss: 0.2656 - val_accuracy: 0.9023\n",
      "Epoch 7/20\n",
      "1500/1500 [==============================] - 6s 4ms/step - loss: 0.2599 - accuracy: 0.9052 - val_loss: 0.2474 - val_accuracy: 0.9108\n",
      "Epoch 8/20\n",
      "1500/1500 [==============================] - 6s 4ms/step - loss: 0.2468 - accuracy: 0.9080 - val_loss: 0.2415 - val_accuracy: 0.9146\n",
      "Epoch 9/20\n",
      "1500/1500 [==============================] - 6s 4ms/step - loss: 0.2379 - accuracy: 0.9103 - val_loss: 0.2314 - val_accuracy: 0.9175\n",
      "Epoch 10/20\n",
      "1500/1500 [==============================] - 6s 4ms/step - loss: 0.2291 - accuracy: 0.9141 - val_loss: 0.2345 - val_accuracy: 0.9166\n",
      "Epoch 11/20\n",
      "1500/1500 [==============================] - 6s 4ms/step - loss: 0.2200 - accuracy: 0.9184 - val_loss: 0.2347 - val_accuracy: 0.9172\n",
      "Epoch 12/20\n",
      "1500/1500 [==============================] - 6s 4ms/step - loss: 0.2175 - accuracy: 0.9182 - val_loss: 0.2332 - val_accuracy: 0.9172\n",
      "Epoch 13/20\n",
      "1500/1500 [==============================] - 6s 4ms/step - loss: 0.2092 - accuracy: 0.9217 - val_loss: 0.2381 - val_accuracy: 0.9167\n",
      "Epoch 14/20\n",
      "1500/1500 [==============================] - 6s 4ms/step - loss: 0.2029 - accuracy: 0.9235 - val_loss: 0.2356 - val_accuracy: 0.9158\n",
      "Epoch 15/20\n",
      "1500/1500 [==============================] - 6s 4ms/step - loss: 0.2015 - accuracy: 0.9243 - val_loss: 0.2322 - val_accuracy: 0.9178\n",
      "Epoch 16/20\n",
      "1500/1500 [==============================] - 6s 4ms/step - loss: 0.1945 - accuracy: 0.9264 - val_loss: 0.2249 - val_accuracy: 0.9230\n",
      "Epoch 17/20\n",
      "1500/1500 [==============================] - 6s 4ms/step - loss: 0.1875 - accuracy: 0.9292 - val_loss: 0.2280 - val_accuracy: 0.9221\n",
      "Epoch 18/20\n",
      "1500/1500 [==============================] - 6s 4ms/step - loss: 0.1845 - accuracy: 0.9293 - val_loss: 0.2259 - val_accuracy: 0.9227\n",
      "Epoch 19/20\n",
      "1500/1500 [==============================] - 6s 4ms/step - loss: 0.1829 - accuracy: 0.9307 - val_loss: 0.2268 - val_accuracy: 0.9229\n",
      "Epoch 20/20\n",
      "1500/1500 [==============================] - 6s 4ms/step - loss: 0.1764 - accuracy: 0.9328 - val_loss: 0.2247 - val_accuracy: 0.9233\n"
     ]
    }
   ],
   "source": [
    "history2 = conv2.fit(x_train, y_train_encoded, epochs=20, validation_data=(x_val, y_val_encoded))"
   ]
  },
  {
   "cell_type": "code",
   "execution_count": 23,
   "id": "658fb328",
   "metadata": {},
   "outputs": [
    {
     "data": {
      "image/png": "[encoded data removed]",
      "text/plain": [
       "<Figure size 432x288 with 1 Axes>"
      ]
     },
     "metadata": {
      "needs_background": "light"
     },
     "output_type": "display_data"
    }
   ],
   "source": [
    "plt.plot(history2.history[\"loss\"])\n",
    "plt.plot(history2.history[\"val_loss\"])\n",
    "plt.ylabel(\"loss\")\n",
    "plt.xlabel(\"epoch\")\n",
    "plt.legend([\"train_loss\", \"val_loss\"])\n",
    "plt.show()"
   ]
  },
  {
   "cell_type": "code",
   "execution_count": 24,
   "id": "b9bf0cda",
   "metadata": {},
   "outputs": [
    {
     "data": {
      "image/png": "[encoded data removed]",
      "text/plain": [
       "<Figure size 432x288 with 1 Axes>"
      ]
     },
     "metadata": {
      "needs_background": "light"
     },
     "output_type": "display_data"
    }
   ],
   "source": [
    "plt.plot(history2.history[\"accuracy\"])\n",
    "plt.plot(history2.history[\"val_accuracy\"])\n",
    "plt.ylabel(\"accuracy\")\n",
    "plt.xlabel(\"epoch\")\n",
    "plt.legend([\"train_accuracy\", \"val_accuracy\"])\n",
    "plt.show()"
   ]
  },
  {
   "cell_type": "code",
   "execution_count": null,
   "id": "2ee65e06",
   "metadata": {},
   "outputs": [],
   "source": []
  }
 ],
 "metadata": {
  "kernelspec": {
   "display_name": "TensorFlow 2.5 on Python 3.8 & CUDA 11.3",
   "language": "python",
   "name": "python3"
  },
  "language_info": {
   "codemirror_mode": {
    "name": "ipython",
    "version": 3
   },
   "file_extension": ".py",
   "mimetype": "text/x-python",
   "name": "python",
   "nbconvert_exporter": "python",
   "pygments_lexer": "ipython3",
   "version": "3.8.10"
  }
 },
 "nbformat": 4,
 "nbformat_minor": 5
}
